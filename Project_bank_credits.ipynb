{
 "cells": [
  {
   "cell_type": "markdown",
   "id": "1752e6af",
   "metadata": {},
   "source": [
    "# Описание проекта\n",
    "\n",
    "Заказчик — кредитный отдел банка, прислал статистику о платежеспособности клиентов.  <br>\n",
    "Нужно разобраться, влияет ли семейное положение и количество детей клиента на факт погашения кредита в срок. А так же ответить на вопрос: как доходы клиента и цели кредита влияют на возврат в срок?<br>\n",
    "Результаты исследования будут учтены при построении модели кредитного скоринга — специальной системы, которая оценивает способность потенциального заёмщика вернуть кредит банку."
   ]
  },
  {
   "cell_type": "markdown",
   "id": "5d54d756",
   "metadata": {},
   "source": [
    "# Описание данных\n",
    "- children — количество детей в семье\n",
    "- days_employed — общий трудовой стаж в днях\n",
    "- dob_years — возраст клиента в годах\n",
    "- education — уровень образования клиента\n",
    "- education_id — идентификатор уровня образования\n",
    "- family_status — семейное положение\n",
    "- family_status_id — идентификатор семейного положения\n",
    "- gender — пол клиента\n",
    "- income_type — тип занятости\n",
    "- debt — имел ли задолженность по возврату кредитов\n",
    "- total_income — ежемесячный доход\n",
    "- purpose — цель получения кредита"
   ]
  },
  {
   "cell_type": "markdown",
   "id": "e1f93995",
   "metadata": {},
   "source": [
    "### Шаг 1. Изучение общей информации о данных."
   ]
  },
  {
   "cell_type": "code",
   "execution_count": 1,
   "id": "fdc5cfaa",
   "metadata": {},
   "outputs": [],
   "source": [
    "import pandas as pd\n",
    "import matplotlib.pyplot as plt\n",
    "import seaborn as sns"
   ]
  },
  {
   "cell_type": "code",
   "execution_count": 2,
   "id": "ed02cee3",
   "metadata": {},
   "outputs": [
    {
     "data": {
      "text/html": [
       "<div>\n",
       "<style scoped>\n",
       "    .dataframe tbody tr th:only-of-type {\n",
       "        vertical-align: middle;\n",
       "    }\n",
       "\n",
       "    .dataframe tbody tr th {\n",
       "        vertical-align: top;\n",
       "    }\n",
       "\n",
       "    .dataframe thead th {\n",
       "        text-align: right;\n",
       "    }\n",
       "</style>\n",
       "<table border=\"1\" class=\"dataframe\">\n",
       "  <thead>\n",
       "    <tr style=\"text-align: right;\">\n",
       "      <th></th>\n",
       "      <th>children</th>\n",
       "      <th>days_employed</th>\n",
       "      <th>dob_years</th>\n",
       "      <th>education</th>\n",
       "      <th>education_id</th>\n",
       "      <th>family_status</th>\n",
       "      <th>family_status_id</th>\n",
       "      <th>gender</th>\n",
       "      <th>income_type</th>\n",
       "      <th>debt</th>\n",
       "      <th>total_income</th>\n",
       "      <th>purpose</th>\n",
       "    </tr>\n",
       "  </thead>\n",
       "  <tbody>\n",
       "    <tr>\n",
       "      <th>0</th>\n",
       "      <td>1</td>\n",
       "      <td>-8437.673028</td>\n",
       "      <td>42</td>\n",
       "      <td>высшее</td>\n",
       "      <td>0</td>\n",
       "      <td>женат / замужем</td>\n",
       "      <td>0</td>\n",
       "      <td>F</td>\n",
       "      <td>сотрудник</td>\n",
       "      <td>0</td>\n",
       "      <td>253875.639453</td>\n",
       "      <td>покупка жилья</td>\n",
       "    </tr>\n",
       "    <tr>\n",
       "      <th>1</th>\n",
       "      <td>1</td>\n",
       "      <td>-4024.803754</td>\n",
       "      <td>36</td>\n",
       "      <td>среднее</td>\n",
       "      <td>1</td>\n",
       "      <td>женат / замужем</td>\n",
       "      <td>0</td>\n",
       "      <td>F</td>\n",
       "      <td>сотрудник</td>\n",
       "      <td>0</td>\n",
       "      <td>112080.014102</td>\n",
       "      <td>приобретение автомобиля</td>\n",
       "    </tr>\n",
       "    <tr>\n",
       "      <th>2</th>\n",
       "      <td>0</td>\n",
       "      <td>-5623.422610</td>\n",
       "      <td>33</td>\n",
       "      <td>Среднее</td>\n",
       "      <td>1</td>\n",
       "      <td>женат / замужем</td>\n",
       "      <td>0</td>\n",
       "      <td>M</td>\n",
       "      <td>сотрудник</td>\n",
       "      <td>0</td>\n",
       "      <td>145885.952297</td>\n",
       "      <td>покупка жилья</td>\n",
       "    </tr>\n",
       "    <tr>\n",
       "      <th>3</th>\n",
       "      <td>3</td>\n",
       "      <td>-4124.747207</td>\n",
       "      <td>32</td>\n",
       "      <td>среднее</td>\n",
       "      <td>1</td>\n",
       "      <td>женат / замужем</td>\n",
       "      <td>0</td>\n",
       "      <td>M</td>\n",
       "      <td>сотрудник</td>\n",
       "      <td>0</td>\n",
       "      <td>267628.550329</td>\n",
       "      <td>дополнительное образование</td>\n",
       "    </tr>\n",
       "    <tr>\n",
       "      <th>4</th>\n",
       "      <td>0</td>\n",
       "      <td>340266.072047</td>\n",
       "      <td>53</td>\n",
       "      <td>среднее</td>\n",
       "      <td>1</td>\n",
       "      <td>гражданский брак</td>\n",
       "      <td>1</td>\n",
       "      <td>F</td>\n",
       "      <td>пенсионер</td>\n",
       "      <td>0</td>\n",
       "      <td>158616.077870</td>\n",
       "      <td>сыграть свадьбу</td>\n",
       "    </tr>\n",
       "  </tbody>\n",
       "</table>\n",
       "</div>"
      ],
      "text/plain": [
       "   children  days_employed  dob_years education  education_id  \\\n",
       "0         1   -8437.673028         42    высшее             0   \n",
       "1         1   -4024.803754         36   среднее             1   \n",
       "2         0   -5623.422610         33   Среднее             1   \n",
       "3         3   -4124.747207         32   среднее             1   \n",
       "4         0  340266.072047         53   среднее             1   \n",
       "\n",
       "      family_status  family_status_id gender income_type  debt   total_income  \\\n",
       "0   женат / замужем                 0      F   сотрудник     0  253875.639453   \n",
       "1   женат / замужем                 0      F   сотрудник     0  112080.014102   \n",
       "2   женат / замужем                 0      M   сотрудник     0  145885.952297   \n",
       "3   женат / замужем                 0      M   сотрудник     0  267628.550329   \n",
       "4  гражданский брак                 1      F   пенсионер     0  158616.077870   \n",
       "\n",
       "                      purpose  \n",
       "0               покупка жилья  \n",
       "1     приобретение автомобиля  \n",
       "2               покупка жилья  \n",
       "3  дополнительное образование  \n",
       "4             сыграть свадьбу  "
      ]
     },
     "execution_count": 2,
     "metadata": {},
     "output_type": "execute_result"
    }
   ],
   "source": [
    "# чтение файла с данными и сохранение в df\n",
    "df = pd.read_csv('data.csv')\n",
    "\n",
    "# получение первых строк таблицы df\n",
    "df.head()"
   ]
  },
  {
   "cell_type": "code",
   "execution_count": 3,
   "id": "7720fa11",
   "metadata": {},
   "outputs": [
    {
     "name": "stdout",
     "output_type": "stream",
     "text": [
      "<class 'pandas.core.frame.DataFrame'>\n",
      "RangeIndex: 21525 entries, 0 to 21524\n",
      "Data columns (total 12 columns):\n",
      " #   Column            Non-Null Count  Dtype  \n",
      "---  ------            --------------  -----  \n",
      " 0   children          21525 non-null  int64  \n",
      " 1   days_employed     19351 non-null  float64\n",
      " 2   dob_years         21525 non-null  int64  \n",
      " 3   education         21525 non-null  object \n",
      " 4   education_id      21525 non-null  int64  \n",
      " 5   family_status     21525 non-null  object \n",
      " 6   family_status_id  21525 non-null  int64  \n",
      " 7   gender            21525 non-null  object \n",
      " 8   income_type       21525 non-null  object \n",
      " 9   debt              21525 non-null  int64  \n",
      " 10  total_income      19351 non-null  float64\n",
      " 11  purpose           21525 non-null  object \n",
      "dtypes: float64(2), int64(5), object(5)\n",
      "memory usage: 2.0+ MB\n"
     ]
    },
    {
     "data": {
      "text/plain": [
       "children               0\n",
       "days_employed       2174\n",
       "dob_years              0\n",
       "education              0\n",
       "education_id           0\n",
       "family_status          0\n",
       "family_status_id       0\n",
       "gender                 0\n",
       "income_type            0\n",
       "debt                   0\n",
       "total_income        2174\n",
       "purpose                0\n",
       "dtype: int64"
      ]
     },
     "execution_count": 3,
     "metadata": {},
     "output_type": "execute_result"
    }
   ],
   "source": [
    "# получение общей информации о данных в таблице df\n",
    "df.info()\n",
    "\n",
    "# подсчёт пропусков\n",
    "df.isna().sum()"
   ]
  },
  {
   "cell_type": "markdown",
   "id": "26d5a6c0",
   "metadata": {},
   "source": [
    "По первым строкам мы видим несколько проблем с данными.<br>\n",
    "В столбце 'days_employed' есть отрицательные значения. По логике трудовой стаж в днях не может быть как отрицательным, так и иметь много знаков после запятой. <br>\n",
    "В столбце 'education' нет единого стиля написания. <br>\n",
    "В столбце 'purpose' произвольный стиль написания.<br>\n",
    "В двух столбцах 'days_employed' и 'total_income' есть пропущеные значения."
   ]
  },
  {
   "cell_type": "markdown",
   "id": "12063046",
   "metadata": {},
   "source": [
    "### Шаг 2. Предобработка данных."
   ]
  },
  {
   "cell_type": "code",
   "execution_count": 4,
   "id": "3d88ebfd",
   "metadata": {},
   "outputs": [
    {
     "data": {
      "text/plain": [
       "children             0.0\n",
       "days_employed       10.1\n",
       "dob_years            0.0\n",
       "education            0.0\n",
       "education_id         0.0\n",
       "family_status        0.0\n",
       "family_status_id     0.0\n",
       "gender               0.0\n",
       "income_type          0.0\n",
       "debt                 0.0\n",
       "total_income        10.1\n",
       "purpose              0.0\n",
       "dtype: float64"
      ]
     },
     "execution_count": 4,
     "metadata": {},
     "output_type": "execute_result"
    }
   ],
   "source": [
    "# Подсчет количества пропущенных значений\n",
    "(df.isna().mean()*100).round(2)"
   ]
  },
  {
   "cell_type": "markdown",
   "id": "0f5a3f36",
   "metadata": {},
   "source": [
    "В обоих столбцах пропущено более 10% строк. Это довольно большое количество. \n",
    "\n",
    "По своему опыту могу сказать, что трудовой стаж некоторые клиенты не указывают сознательно. Считая, что возраст за них все скажет сам. Или что они толком не знают как стаж считать. Ведь могут быть различные повышающие коэффициенты в работе. К примеру, за риск, сложность, опасность работ...\n",
    "\n",
    "Возможно, что в этих данных приведен трудовой стаж в виде результатов вычислений. Тогда мы смело можем утверждать, что одного из слагаемы в формуле нет. Отсюда и пропуск.\n",
    "\n",
    "Так же есть вариант ошибки оператора при создании этого файла. \n",
    "\n",
    "Есть вероятность автоматической ошибки считывания данных, если подчерк клиента был неразборчивый."
   ]
  },
  {
   "cell_type": "code",
   "execution_count": 5,
   "id": "90a14123",
   "metadata": {},
   "outputs": [
    {
     "name": "stdout",
     "output_type": "stream",
     "text": [
      "Медиана: 145017.93753253992\n",
      "Среднее: 167422.30220817294\n"
     ]
    }
   ],
   "source": [
    "# Вычисление среднего и медианы\n",
    "print('Медиана:',df['total_income'].median())\n",
    "print('Среднее:', df['total_income'].mean())"
   ]
  },
  {
   "cell_type": "code",
   "execution_count": 6,
   "id": "1f9cf94d",
   "metadata": {},
   "outputs": [
    {
     "data": {
      "text/plain": [
       "0"
      ]
     },
     "execution_count": 6,
     "metadata": {},
     "output_type": "execute_result"
    }
   ],
   "source": [
    "# Заполнение пропущенных строк в столбце total_income медианным значением.\n",
    "df['total_income'] = df['total_income'].fillna(df['total_income'].median())\n",
    "df['total_income'].isna().sum()"
   ]
  },
  {
   "cell_type": "code",
   "execution_count": 7,
   "id": "34f9d597",
   "metadata": {},
   "outputs": [
    {
     "name": "stdout",
     "output_type": "stream",
     "text": [
      "children [-1, 0, 1, 2, 3, 4, 5, 20]\n",
      "gender ['F', 'M', 'XNA']\n",
      "dob_years [0, 19, 20, 21, 22, 23, 24, 25, 26, 27, 28, 29, 30, 31, 32, 33, 34, 35, 36, 37, 38, 39, 40, 41, 42, 43, 44, 45, 46, 47, 48, 49, 50, 51, 52, 53, 54, 55, 56, 57, 58, 59, 60, 61, 62, 63, 64, 65, 66, 67, 68, 69, 70, 71, 72, 73, 74, 75]\n"
     ]
    }
   ],
   "source": [
    "# Исследование столбцов children, gender, dob_years, days_employed\n",
    "print('children', sorted(df['children'].unique()))\n",
    "print('gender', sorted(df['gender'].unique()))\n",
    "print('dob_years', sorted(df['dob_years'].unique()))"
   ]
  },
  {
   "cell_type": "code",
   "execution_count": 8,
   "id": "02db3c99",
   "metadata": {},
   "outputs": [
    {
     "data": {
      "text/plain": [
       "'children'"
      ]
     },
     "metadata": {},
     "output_type": "display_data"
    },
    {
     "data": {
      "text/plain": [
       "children\n",
       "-1        47\n",
       " 0     14149\n",
       " 1      4818\n",
       " 2      2055\n",
       " 3       330\n",
       " 4        41\n",
       " 5         9\n",
       " 20       76\n",
       "Name: debt, dtype: int64"
      ]
     },
     "metadata": {},
     "output_type": "display_data"
    }
   ],
   "source": [
    "# Просмотр количества кредитов по количеству детей\n",
    "display('children', df.groupby('children')['debt'].count())"
   ]
  },
  {
   "cell_type": "markdown",
   "id": "d9f70474",
   "metadata": {},
   "source": [
    "В столбце 'children' есть отрицательное значение. Теоретически можно указать в случае непоправимых событий, что детей теперь -1. Но все таки врядли эту информацию будут офишировать и передавать банку. Поэтому я принял решение, что эта ошибка оператора или системы не критична и эти данные можно сгруппировать с данными по 1 ребенку. Тем более, что 47 строк на фоне 14 149 не сильно повлияют на конечный результат исследования. Их доля очень мала. В столбце есть значение 20. Теоретически такая семья может быть, но взятых кредитов в этой выборке больше чем в семьях с 4 и 5 детьми вместе взятыми. Так что принято решение считать выборку с 20 детьми аномалией. <br>\n",
    "Скорее всего оператор, когда нажимала клавиши, ошиблась. Кнопки '0' и '2' смежные. Данные могут принадлежать как одной так и второй выборке. Мы не можем с уверенностью их присоединить ни к варианту бездетных заемщиков, так и к варианту с 2 детьми. А даже если и присоединить, то на фоне количества кредитов как одних так и других, выборка изменится в пределах 3,6%. Об обнаруженной аномалии имеет смысл сообщить заказчику. Быть может эти данные они пересмотрят.<br>\n",
    "Я принимаю решение проигнорировать данные по выборке в 20 детей в ходе дальнейшего исследования.<br>\n",
    "В столбцах 'gender' и 'dob_years' есть выпадающие из общей картины данные. Пол заемщика для нашего исследования не имеет значения. Количество лет \"0\" немного настораживает. Скорее всего имелось ввиду количество лет с момента, как человек может подать заявку на кредит. Но в нашем исследовании возраст заемщиков не рассматривается, поэтому данные в этих двух столбцах я оставляю без изменений.<br>\n",
    "В столбце 'days_employed' находятся как положительные, так и отрицательные значения. Поскольку общий трудовой стаж в днях не может быть отрицательным, принято решение перевести эти числа в положительный вид. Не понятно как количество дней может иметь дробную часть. Так же смущает сама целая часть. Такое ощущение, что здесь данные приведены не в том формате, что указан в задании. Далее этот столбец не участвует в исследовании, поэтому и пропущенные в нем значения мы не будем как-то обрабатывать. "
   ]
  },
  {
   "cell_type": "code",
   "execution_count": 9,
   "id": "cdb0a1ff",
   "metadata": {},
   "outputs": [
    {
     "data": {
      "text/plain": [
       "71"
      ]
     },
     "execution_count": 9,
     "metadata": {},
     "output_type": "execute_result"
    }
   ],
   "source": [
    "# Приведение столбца 'days_employed' в положительный вид. \n",
    "df['days_employed'] = abs(df['days_employed'])\n",
    "\n",
    "# Замена вещественного типа данных в столбце total_income на целочисленный.\n",
    "df['total_income'] = df['total_income'].astype(int)\n",
    "\n",
    "# Перевод строк в столбце \"education\" в нижний регистр\n",
    "df['education'] = df['education'].str.lower()\n",
    "\n",
    "# Приведение столбца 'children' в положительный вид. \n",
    "df['children'] = abs(df['children'])\n",
    "\n",
    "# Поиск дубликатов\n",
    "df.duplicated().sum()"
   ]
  },
  {
   "cell_type": "code",
   "execution_count": 10,
   "id": "5a33fdce",
   "metadata": {},
   "outputs": [
    {
     "data": {
      "text/plain": [
       "0"
      ]
     },
     "execution_count": 10,
     "metadata": {},
     "output_type": "execute_result"
    }
   ],
   "source": [
    "# Удаление дубликатов\n",
    "df = df.drop_duplicates().reset_index(drop=True)\n",
    "df.duplicated().sum()"
   ]
  },
  {
   "cell_type": "code",
   "execution_count": 11,
   "id": "df843d43",
   "metadata": {},
   "outputs": [
    {
     "data": {
      "text/html": [
       "<div>\n",
       "<style scoped>\n",
       "    .dataframe tbody tr th:only-of-type {\n",
       "        vertical-align: middle;\n",
       "    }\n",
       "\n",
       "    .dataframe tbody tr th {\n",
       "        vertical-align: top;\n",
       "    }\n",
       "\n",
       "    .dataframe thead th {\n",
       "        text-align: right;\n",
       "    }\n",
       "</style>\n",
       "<table border=\"1\" class=\"dataframe\">\n",
       "  <thead>\n",
       "    <tr style=\"text-align: right;\">\n",
       "      <th></th>\n",
       "      <th>education</th>\n",
       "      <th>education_id</th>\n",
       "    </tr>\n",
       "  </thead>\n",
       "  <tbody>\n",
       "    <tr>\n",
       "      <th>0</th>\n",
       "      <td>высшее</td>\n",
       "      <td>0</td>\n",
       "    </tr>\n",
       "    <tr>\n",
       "      <th>1</th>\n",
       "      <td>среднее</td>\n",
       "      <td>1</td>\n",
       "    </tr>\n",
       "    <tr>\n",
       "      <th>2</th>\n",
       "      <td>неоконченное высшее</td>\n",
       "      <td>2</td>\n",
       "    </tr>\n",
       "    <tr>\n",
       "      <th>3</th>\n",
       "      <td>начальное</td>\n",
       "      <td>3</td>\n",
       "    </tr>\n",
       "    <tr>\n",
       "      <th>4</th>\n",
       "      <td>ученая степень</td>\n",
       "      <td>4</td>\n",
       "    </tr>\n",
       "  </tbody>\n",
       "</table>\n",
       "</div>"
      ],
      "text/plain": [
       "             education  education_id\n",
       "0               высшее             0\n",
       "1              среднее             1\n",
       "2  неоконченное высшее             2\n",
       "3            начальное             3\n",
       "4       ученая степень             4"
      ]
     },
     "metadata": {},
     "output_type": "display_data"
    }
   ],
   "source": [
    "# Создание таблицы со столбцами 'education' и 'education_id'\n",
    "df_education = df[['education', 'education_id']]\n",
    "\n",
    "# Поиск дубликатов\n",
    "df_education.duplicated().sum()\n",
    "\n",
    "# Удаление дубликатов\n",
    "df_education = df_education.drop_duplicates().reset_index(drop=True)\n",
    "df_education.duplicated().sum()\n",
    "\n",
    "display(df_education)"
   ]
  },
  {
   "cell_type": "code",
   "execution_count": 12,
   "id": "e391c63b",
   "metadata": {},
   "outputs": [
    {
     "data": {
      "text/html": [
       "<div>\n",
       "<style scoped>\n",
       "    .dataframe tbody tr th:only-of-type {\n",
       "        vertical-align: middle;\n",
       "    }\n",
       "\n",
       "    .dataframe tbody tr th {\n",
       "        vertical-align: top;\n",
       "    }\n",
       "\n",
       "    .dataframe thead th {\n",
       "        text-align: right;\n",
       "    }\n",
       "</style>\n",
       "<table border=\"1\" class=\"dataframe\">\n",
       "  <thead>\n",
       "    <tr style=\"text-align: right;\">\n",
       "      <th></th>\n",
       "      <th>family_status</th>\n",
       "      <th>family_status_id</th>\n",
       "    </tr>\n",
       "  </thead>\n",
       "  <tbody>\n",
       "    <tr>\n",
       "      <th>0</th>\n",
       "      <td>женат / замужем</td>\n",
       "      <td>0</td>\n",
       "    </tr>\n",
       "    <tr>\n",
       "      <th>1</th>\n",
       "      <td>гражданский брак</td>\n",
       "      <td>1</td>\n",
       "    </tr>\n",
       "    <tr>\n",
       "      <th>2</th>\n",
       "      <td>вдовец / вдова</td>\n",
       "      <td>2</td>\n",
       "    </tr>\n",
       "    <tr>\n",
       "      <th>3</th>\n",
       "      <td>в разводе</td>\n",
       "      <td>3</td>\n",
       "    </tr>\n",
       "    <tr>\n",
       "      <th>4</th>\n",
       "      <td>Не женат / не замужем</td>\n",
       "      <td>4</td>\n",
       "    </tr>\n",
       "  </tbody>\n",
       "</table>\n",
       "</div>"
      ],
      "text/plain": [
       "           family_status  family_status_id\n",
       "0        женат / замужем                 0\n",
       "1       гражданский брак                 1\n",
       "2         вдовец / вдова                 2\n",
       "3              в разводе                 3\n",
       "4  Не женат / не замужем                 4"
      ]
     },
     "metadata": {},
     "output_type": "display_data"
    }
   ],
   "source": [
    "# Создание таблицы со столбцами 'family_status' и 'family_status_id'\n",
    "\n",
    "df_family = df[['family_status', 'family_status_id']]\n",
    "\n",
    "# Поиск дубликатов\n",
    "df_family.duplicated().sum()\n",
    "\n",
    "# Удаление дубликатов\n",
    "df_family = df_family.drop_duplicates().reset_index(drop=True)\n",
    "df_family.duplicated().sum()\n",
    "\n",
    "display(df_family)"
   ]
  },
  {
   "cell_type": "markdown",
   "id": "6675f880",
   "metadata": {},
   "source": [
    "На основании диапазонов, указанных ниже, создайте столбец total_income_category с категориями: \n",
    "\n",
    "0–30000 — 'E'; \n",
    "\n",
    "30001–50000 — 'D'; \n",
    "\n",
    "50001–200000 — 'C'; \n",
    "\n",
    "200001–1000000 — 'B'; \n",
    "\n",
    "1000001 и выше — 'A'. \n",
    "\n",
    "Например, кредитополучателю с доходом 25000 нужно назначить категорию 'E', а клиенту, получающему 235000, — 'B'."
   ]
  },
  {
   "cell_type": "code",
   "execution_count": 13,
   "id": "0f2f4c79",
   "metadata": {},
   "outputs": [],
   "source": [
    "# Создание столбца total_income_category \n",
    "for z in range(len(df['total_income'])):\n",
    "    if 0 < df.loc[z,'total_income'] <= 30000:\n",
    "        df.loc[z, 'total_income_category'] = 'E'\n",
    "    elif 30001 <= df.loc[z,'total_income'] <= 50000:\n",
    "        df.loc[z, 'total_income_category'] = 'D'\n",
    "    elif 50001 <= df.loc[z,'total_income'] <= 200000:\n",
    "        df.loc[z, 'total_income_category'] = 'C'\n",
    "    elif 200001 <= df.loc[z,'total_income'] <= 1000000:\n",
    "        df.loc[z, 'total_income_category'] = 'B'\n",
    "    elif df.loc[z,'total_income'] >= 1000001:\n",
    "        df.loc[z, 'total_income_category'] = 'A'"
   ]
  },
  {
   "cell_type": "code",
   "execution_count": 14,
   "id": "01ed0600",
   "metadata": {},
   "outputs": [
    {
     "data": {
      "text/plain": [
       "['автомобили',\n",
       " 'автомобиль',\n",
       " 'высшее образование',\n",
       " 'дополнительное образование',\n",
       " 'жилье',\n",
       " 'заняться высшим образованием',\n",
       " 'заняться образованием',\n",
       " 'на покупку автомобиля',\n",
       " 'на покупку подержанного автомобиля',\n",
       " 'на покупку своего автомобиля',\n",
       " 'на проведение свадьбы',\n",
       " 'недвижимость',\n",
       " 'образование',\n",
       " 'операции с жильем',\n",
       " 'операции с коммерческой недвижимостью',\n",
       " 'операции с недвижимостью',\n",
       " 'операции со своей недвижимостью',\n",
       " 'покупка жилой недвижимости',\n",
       " 'покупка жилья',\n",
       " 'покупка жилья для сдачи',\n",
       " 'покупка жилья для семьи',\n",
       " 'покупка коммерческой недвижимости',\n",
       " 'покупка недвижимости',\n",
       " 'покупка своего жилья',\n",
       " 'получение высшего образования',\n",
       " 'получение дополнительного образования',\n",
       " 'получение образования',\n",
       " 'приобретение автомобиля',\n",
       " 'профильное образование',\n",
       " 'ремонт жилью',\n",
       " 'свадьба',\n",
       " 'свой автомобиль',\n",
       " 'сделка с автомобилем',\n",
       " 'сделка с подержанным автомобилем',\n",
       " 'строительство жилой недвижимости',\n",
       " 'строительство недвижимости',\n",
       " 'строительство собственной недвижимости',\n",
       " 'сыграть свадьбу']"
      ]
     },
     "execution_count": 14,
     "metadata": {},
     "output_type": "execute_result"
    }
   ],
   "source": [
    "# Просмотр уникальных значений в столбце 'purpose'\n",
    "sorted(df['purpose'].unique())"
   ]
  },
  {
   "cell_type": "code",
   "execution_count": 15,
   "id": "6708d563",
   "metadata": {},
   "outputs": [],
   "source": [
    "# Функция, которая на основании данных из столбца purpose сформирует новый столбец purpose_category.\n",
    "\n",
    "def pc(data_in):\n",
    "    if data_in.find('авто') != -1:\n",
    "        return 'операции с автомобилем'\n",
    "    elif data_in.find('свадьб') != -1:\n",
    "        return 'проведение свадьбы'\n",
    "    elif data_in.find('образован') != -1:\n",
    "        return 'получение образования'\n",
    "    else:\n",
    "        return 'операции с недвижимостью'\n",
    "    \n",
    "# Цикл для создания столбца 'purpose_category'\n",
    "for i in range(len(df['purpose'])):\n",
    "    df.loc[i, 'purpose_category'] = pc(df.loc[i, 'purpose'])"
   ]
  },
  {
   "cell_type": "code",
   "execution_count": 16,
   "id": "2d7b9df6",
   "metadata": {},
   "outputs": [
    {
     "data": {
      "text/html": [
       "<div>\n",
       "<style scoped>\n",
       "    .dataframe tbody tr th:only-of-type {\n",
       "        vertical-align: middle;\n",
       "    }\n",
       "\n",
       "    .dataframe tbody tr th {\n",
       "        vertical-align: top;\n",
       "    }\n",
       "\n",
       "    .dataframe thead th {\n",
       "        text-align: right;\n",
       "    }\n",
       "</style>\n",
       "<table border=\"1\" class=\"dataframe\">\n",
       "  <thead>\n",
       "    <tr style=\"text-align: right;\">\n",
       "      <th></th>\n",
       "      <th>children</th>\n",
       "      <th>days_employed</th>\n",
       "      <th>dob_years</th>\n",
       "      <th>education</th>\n",
       "      <th>education_id</th>\n",
       "      <th>family_status</th>\n",
       "      <th>family_status_id</th>\n",
       "      <th>gender</th>\n",
       "      <th>income_type</th>\n",
       "      <th>debt</th>\n",
       "      <th>total_income</th>\n",
       "      <th>purpose</th>\n",
       "      <th>total_income_category</th>\n",
       "      <th>purpose_category</th>\n",
       "    </tr>\n",
       "  </thead>\n",
       "  <tbody>\n",
       "    <tr>\n",
       "      <th>0</th>\n",
       "      <td>1</td>\n",
       "      <td>8437.673028</td>\n",
       "      <td>42</td>\n",
       "      <td>высшее</td>\n",
       "      <td>0</td>\n",
       "      <td>женат / замужем</td>\n",
       "      <td>0</td>\n",
       "      <td>F</td>\n",
       "      <td>сотрудник</td>\n",
       "      <td>0</td>\n",
       "      <td>253875</td>\n",
       "      <td>покупка жилья</td>\n",
       "      <td>B</td>\n",
       "      <td>операции с недвижимостью</td>\n",
       "    </tr>\n",
       "    <tr>\n",
       "      <th>1</th>\n",
       "      <td>1</td>\n",
       "      <td>4024.803754</td>\n",
       "      <td>36</td>\n",
       "      <td>среднее</td>\n",
       "      <td>1</td>\n",
       "      <td>женат / замужем</td>\n",
       "      <td>0</td>\n",
       "      <td>F</td>\n",
       "      <td>сотрудник</td>\n",
       "      <td>0</td>\n",
       "      <td>112080</td>\n",
       "      <td>приобретение автомобиля</td>\n",
       "      <td>C</td>\n",
       "      <td>операции с автомобилем</td>\n",
       "    </tr>\n",
       "    <tr>\n",
       "      <th>2</th>\n",
       "      <td>0</td>\n",
       "      <td>5623.422610</td>\n",
       "      <td>33</td>\n",
       "      <td>среднее</td>\n",
       "      <td>1</td>\n",
       "      <td>женат / замужем</td>\n",
       "      <td>0</td>\n",
       "      <td>M</td>\n",
       "      <td>сотрудник</td>\n",
       "      <td>0</td>\n",
       "      <td>145885</td>\n",
       "      <td>покупка жилья</td>\n",
       "      <td>C</td>\n",
       "      <td>операции с недвижимостью</td>\n",
       "    </tr>\n",
       "    <tr>\n",
       "      <th>3</th>\n",
       "      <td>3</td>\n",
       "      <td>4124.747207</td>\n",
       "      <td>32</td>\n",
       "      <td>среднее</td>\n",
       "      <td>1</td>\n",
       "      <td>женат / замужем</td>\n",
       "      <td>0</td>\n",
       "      <td>M</td>\n",
       "      <td>сотрудник</td>\n",
       "      <td>0</td>\n",
       "      <td>267628</td>\n",
       "      <td>дополнительное образование</td>\n",
       "      <td>B</td>\n",
       "      <td>получение образования</td>\n",
       "    </tr>\n",
       "    <tr>\n",
       "      <th>4</th>\n",
       "      <td>0</td>\n",
       "      <td>340266.072047</td>\n",
       "      <td>53</td>\n",
       "      <td>среднее</td>\n",
       "      <td>1</td>\n",
       "      <td>гражданский брак</td>\n",
       "      <td>1</td>\n",
       "      <td>F</td>\n",
       "      <td>пенсионер</td>\n",
       "      <td>0</td>\n",
       "      <td>158616</td>\n",
       "      <td>сыграть свадьбу</td>\n",
       "      <td>C</td>\n",
       "      <td>проведение свадьбы</td>\n",
       "    </tr>\n",
       "  </tbody>\n",
       "</table>\n",
       "</div>"
      ],
      "text/plain": [
       "   children  days_employed  dob_years education  education_id  \\\n",
       "0         1    8437.673028         42    высшее             0   \n",
       "1         1    4024.803754         36   среднее             1   \n",
       "2         0    5623.422610         33   среднее             1   \n",
       "3         3    4124.747207         32   среднее             1   \n",
       "4         0  340266.072047         53   среднее             1   \n",
       "\n",
       "      family_status  family_status_id gender income_type  debt  total_income  \\\n",
       "0   женат / замужем                 0      F   сотрудник     0        253875   \n",
       "1   женат / замужем                 0      F   сотрудник     0        112080   \n",
       "2   женат / замужем                 0      M   сотрудник     0        145885   \n",
       "3   женат / замужем                 0      M   сотрудник     0        267628   \n",
       "4  гражданский брак                 1      F   пенсионер     0        158616   \n",
       "\n",
       "                      purpose total_income_category          purpose_category  \n",
       "0               покупка жилья                     B  операции с недвижимостью  \n",
       "1     приобретение автомобиля                     C    операции с автомобилем  \n",
       "2               покупка жилья                     C  операции с недвижимостью  \n",
       "3  дополнительное образование                     B     получение образования  \n",
       "4             сыграть свадьбу                     C        проведение свадьбы  "
      ]
     },
     "execution_count": 16,
     "metadata": {},
     "output_type": "execute_result"
    }
   ],
   "source": [
    "df.head()"
   ]
  },
  {
   "cell_type": "markdown",
   "id": "4d319f7f",
   "metadata": {},
   "source": [
    "### Шаг 3. Исследование."
   ]
  },
  {
   "cell_type": "markdown",
   "id": "73c07f3f",
   "metadata": {},
   "source": [
    "#### 3.1 Проверка зависимости между количеством детей и возвратом кредита в срок."
   ]
  },
  {
   "cell_type": "code",
   "execution_count": 17,
   "id": "ae4fa309",
   "metadata": {},
   "outputs": [
    {
     "data": {
      "text/html": [
       "<div>\n",
       "<style scoped>\n",
       "    .dataframe tbody tr th:only-of-type {\n",
       "        vertical-align: middle;\n",
       "    }\n",
       "\n",
       "    .dataframe tbody tr th {\n",
       "        vertical-align: top;\n",
       "    }\n",
       "\n",
       "    .dataframe thead th {\n",
       "        text-align: right;\n",
       "    }\n",
       "</style>\n",
       "<table border=\"1\" class=\"dataframe\">\n",
       "  <thead>\n",
       "    <tr style=\"text-align: right;\">\n",
       "      <th></th>\n",
       "      <th>children</th>\n",
       "      <th>debt</th>\n",
       "      <th>debt_not</th>\n",
       "      <th>debt_percent</th>\n",
       "    </tr>\n",
       "  </thead>\n",
       "  <tbody>\n",
       "    <tr>\n",
       "      <th>0</th>\n",
       "      <td>0</td>\n",
       "      <td>14091</td>\n",
       "      <td>1063.0</td>\n",
       "      <td>7.54</td>\n",
       "    </tr>\n",
       "    <tr>\n",
       "      <th>1</th>\n",
       "      <td>1</td>\n",
       "      <td>4855</td>\n",
       "      <td>445.0</td>\n",
       "      <td>9.17</td>\n",
       "    </tr>\n",
       "    <tr>\n",
       "      <th>2</th>\n",
       "      <td>2</td>\n",
       "      <td>2052</td>\n",
       "      <td>194.0</td>\n",
       "      <td>9.45</td>\n",
       "    </tr>\n",
       "    <tr>\n",
       "      <th>3</th>\n",
       "      <td>3</td>\n",
       "      <td>330</td>\n",
       "      <td>27.0</td>\n",
       "      <td>8.18</td>\n",
       "    </tr>\n",
       "    <tr>\n",
       "      <th>4</th>\n",
       "      <td>4</td>\n",
       "      <td>41</td>\n",
       "      <td>4.0</td>\n",
       "      <td>9.76</td>\n",
       "    </tr>\n",
       "    <tr>\n",
       "      <th>5</th>\n",
       "      <td>5</td>\n",
       "      <td>9</td>\n",
       "      <td>NaN</td>\n",
       "      <td>NaN</td>\n",
       "    </tr>\n",
       "  </tbody>\n",
       "</table>\n",
       "</div>"
      ],
      "text/plain": [
       "   children   debt  debt_not  debt_percent\n",
       "0         0  14091    1063.0          7.54\n",
       "1         1   4855     445.0          9.17\n",
       "2         2   2052     194.0          9.45\n",
       "3         3    330      27.0          8.18\n",
       "4         4     41       4.0          9.76\n",
       "5         5      9       NaN           NaN"
      ]
     },
     "execution_count": 17,
     "metadata": {},
     "output_type": "execute_result"
    }
   ],
   "source": [
    "# Из исходной таблицы игнорируем данные с 20-ю детьми\n",
    "debt_ch = df[df['children'] != 20]\n",
    "\n",
    "# В табллицу debt_all_ch групировка исходной таблицы по столбцу 'children' с подсчетом количества выданных кредитов.\n",
    "debt_all_ch = debt_ch.groupby('children')['debt'].count().reset_index()\n",
    "\n",
    "# В столбец 'debt_not' групировка количества не возвращенных кредитов.\n",
    "debt_all_ch['debt_not'] = debt_ch[debt_ch['debt'] == 1].groupby('children')['debt'].count()\n",
    "\n",
    "# В столбец 'debt_percent' подсчитано в % количества не выданных кредитов.\n",
    "debt_all_ch['debt_percent'] = (debt_all_ch['debt_not']*100/debt_all_ch['debt']).round(2)\n",
    "\n",
    "debt_all_ch"
   ]
  },
  {
   "cell_type": "code",
   "execution_count": 18,
   "id": "237d9a9d",
   "metadata": {
    "scrolled": true
   },
   "outputs": [
    {
     "data": {
      "image/png": "[encoded data removed]",
      "text/plain": [
       "<Figure size 720x288 with 1 Axes>"
      ]
     },
     "metadata": {},
     "output_type": "display_data"
    }
   ],
   "source": [
    "# Применение стиля whitegrid из библиотеки seaborn\n",
    "sns.set_style('whitegrid')\n",
    "\n",
    "# Размер графика\n",
    "plt.figure(figsize=(10, 4))\n",
    "\n",
    "# Строим линейный график \n",
    "sns.lineplot(x='children', y='debt', data=debt_all_ch, marker='D')\n",
    "\n",
    "# Формируем заголовок графика и подписи осей \n",
    "plt.title('График зависимости количества кредитов от количества детей')\n",
    "plt.xlabel('Количество детей')\n",
    "plt.ylabel('Количество кредитов')\n",
    "plt.show()"
   ]
  },
  {
   "cell_type": "markdown",
   "id": "90ffac1e",
   "metadata": {},
   "source": [
    "Не смотря на то, что с увеличением количества детей % не возвращаемых кредитов возрастает, нельзя сделать однозначный вывод.<br>\n",
    "В строке с 5 детьми нет не возвращенных кредитов.<br>\n",
    "По данным видна зависимость количества кредитов от количества детей. Чем больше детей, тем меньше кредитов. <br>\n",
    "Мы получили отсутствие зависимости в процентах от общего количества выданных кредитов. Разброс от 7,5% у бездетных до 9,76% у семей с 4 детьми. Разница в почти 2%. В то время как все клиенты с 5 детьми не имеют невозвратов. Бездетные возвращают кредит чаще чем семьи с детьми, если не брать во внимание данные по семьям с 5 детьми. "
   ]
  },
  {
   "cell_type": "markdown",
   "id": "83e33bf0",
   "metadata": {},
   "source": [
    "#### 3.2 Проверка зависимости между семейным положением и возвратом кредита в срок."
   ]
  },
  {
   "cell_type": "code",
   "execution_count": 19,
   "id": "e74db6a6",
   "metadata": {},
   "outputs": [
    {
     "data": {
      "text/html": [
       "<div>\n",
       "<style scoped>\n",
       "    .dataframe tbody tr th:only-of-type {\n",
       "        vertical-align: middle;\n",
       "    }\n",
       "\n",
       "    .dataframe tbody tr th {\n",
       "        vertical-align: top;\n",
       "    }\n",
       "\n",
       "    .dataframe thead th {\n",
       "        text-align: right;\n",
       "    }\n",
       "</style>\n",
       "<table border=\"1\" class=\"dataframe\">\n",
       "  <thead>\n",
       "    <tr style=\"text-align: right;\">\n",
       "      <th></th>\n",
       "      <th>family_status_id</th>\n",
       "      <th>debt</th>\n",
       "      <th>debt_not</th>\n",
       "      <th>debt_percent</th>\n",
       "    </tr>\n",
       "  </thead>\n",
       "  <tbody>\n",
       "    <tr>\n",
       "      <th>0</th>\n",
       "      <td>0</td>\n",
       "      <td>12339</td>\n",
       "      <td>931</td>\n",
       "      <td>7.55</td>\n",
       "    </tr>\n",
       "    <tr>\n",
       "      <th>1</th>\n",
       "      <td>1</td>\n",
       "      <td>4151</td>\n",
       "      <td>388</td>\n",
       "      <td>9.35</td>\n",
       "    </tr>\n",
       "    <tr>\n",
       "      <th>2</th>\n",
       "      <td>2</td>\n",
       "      <td>959</td>\n",
       "      <td>63</td>\n",
       "      <td>6.57</td>\n",
       "    </tr>\n",
       "    <tr>\n",
       "      <th>3</th>\n",
       "      <td>3</td>\n",
       "      <td>1195</td>\n",
       "      <td>85</td>\n",
       "      <td>7.11</td>\n",
       "    </tr>\n",
       "    <tr>\n",
       "      <th>4</th>\n",
       "      <td>4</td>\n",
       "      <td>2810</td>\n",
       "      <td>274</td>\n",
       "      <td>9.75</td>\n",
       "    </tr>\n",
       "  </tbody>\n",
       "</table>\n",
       "</div>"
      ],
      "text/plain": [
       "   family_status_id   debt  debt_not  debt_percent\n",
       "0                 0  12339       931          7.55\n",
       "1                 1   4151       388          9.35\n",
       "2                 2    959        63          6.57\n",
       "3                 3   1195        85          7.11\n",
       "4                 4   2810       274          9.75"
      ]
     },
     "execution_count": 19,
     "metadata": {},
     "output_type": "execute_result"
    }
   ],
   "source": [
    "# В таблицу debt_all_f групировка исходной таблицы по столбцу 'family_status_id' с подсчетом количества выданных кредитов.\n",
    "debt_all_f = df.groupby('family_status_id')['debt'].count().reset_index()\n",
    "\n",
    "# В столбец 'debt_not' групировка количества не возвращенных кредитов.\n",
    "debt_all_f['debt_not'] = df[df['debt'] == 1].groupby('family_status_id')['debt'].count()\n",
    "\n",
    "# В столбец 'debt_percent' подсчитано в % количества не выданных кредитов.\n",
    "debt_all_f['debt_percent'] = (debt_all_f['debt_not']*100/debt_all_f['debt']).round(2)\n",
    "\n",
    "debt_all_f"
   ]
  },
  {
   "cell_type": "code",
   "execution_count": 28,
   "id": "9260ee22",
   "metadata": {
    "scrolled": false
   },
   "outputs": [
    {
     "data": {
      "image/png": "[encoded data removed]",
      "text/plain": [
       "<Figure size 800x480 with 1 Axes>"
      ]
     },
     "metadata": {},
     "output_type": "display_data"
    }
   ],
   "source": [
    "# Применение стиля whitegrid из библиотеки seaborn\n",
    "sns.set_style('whitegrid')\n",
    "\n",
    "# Размер графика\n",
    "plt.figure(figsize=(10, 6))\n",
    "\n",
    "# Строим линейный график \n",
    "sns.lineplot(x='family_status', y='debt', data=df.groupby('family_status')['debt'].count().reset_index(), marker='D')\n",
    "\n",
    "# Формируем заголовок графика и подписи осей \n",
    "plt.title('График зависимости количества кредитов от семейного положения', fontsize=15)\n",
    "plt.xlabel('Семейное положение', fontsize=10)\n",
    "plt.ylabel('Количество кредитов', fontsize=10)\n",
    "plt.show()"
   ]
  },
  {
   "cell_type": "markdown",
   "id": "cf5d218e",
   "metadata": {},
   "source": [
    "Из полученных результатов мы видим, что разброс невозвратов кредитов по категориям в процентном соотношении колеблется от 6,5% до 9,76%. Это довольно большой разброс. <br>\n",
    "Больше всего берут кредитов супруги в браке. Они же больше всего не возвращают в абсолютных цифрах. В то же время в процентном соотношении это всего 7,54% невозвратов.<br>\n",
    "На втором месте по количеству кредитов лица в гражданском браке. У них 9,34% невозвратов.<br>\n",
    "Меньше всего берут кредиты вдовы/вдовцы. И они же имеют самый низкий процент невозвратов - 6,57%<br>\n",
    "Не далеко от них ушли и разведенные - 7,12% невозвратов.<br>\n",
    "А вот не обремененные браком лица берут кредиты не очень часто, но возвращают хуже всего. Процент не возврата самый высокий - 9,75%<br>\n",
    "По полученным данным делаем вывод: супруги, вдовы, вдовцы и разведенные клиенты являются самыми надежными заемщиками. В то время как лица в гражданском браке и холостые чаще не возвращают кредиты."
   ]
  },
  {
   "cell_type": "markdown",
   "id": "3ef15073",
   "metadata": {},
   "source": [
    "#### 3.3 Проверка зависимости между уровнем дохода и возвратом кредита в срок."
   ]
  },
  {
   "cell_type": "code",
   "execution_count": 21,
   "id": "c1215579",
   "metadata": {
    "scrolled": false
   },
   "outputs": [
    {
     "data": {
      "image/png": "[encoded data removed]",
      "text/plain": [
       "<Figure size 640x480 with 1 Axes>"
      ]
     },
     "metadata": {},
     "output_type": "display_data"
    }
   ],
   "source": [
    "# Назначаем классический стиль для графика с помощью matplotlib\n",
    "plt.style.use('classic')\n",
    "\n",
    "# Строим гистограмму для столбца total_income, добавив график кривой KDE\n",
    "sns.histplot(x='total_income', data=df, kde=True)\n",
    "\n",
    "# Ограничиваем ось X для наглядности\n",
    "plt.xlim(0, 500000)\n",
    "\n",
    "# Указываем заголовок графика и подписи осей средствами matplotlib\n",
    "plt.title('Распределение дохода')\n",
    "plt.xlabel('Значение')\n",
    "plt.ylabel('Частота')\n",
    "plt.show()"
   ]
  },
  {
   "cell_type": "code",
   "execution_count": 22,
   "id": "4b939759",
   "metadata": {},
   "outputs": [
    {
     "data": {
      "text/html": [
       "<div>\n",
       "<style scoped>\n",
       "    .dataframe tbody tr th:only-of-type {\n",
       "        vertical-align: middle;\n",
       "    }\n",
       "\n",
       "    .dataframe tbody tr th {\n",
       "        vertical-align: top;\n",
       "    }\n",
       "\n",
       "    .dataframe thead th {\n",
       "        text-align: right;\n",
       "    }\n",
       "</style>\n",
       "<table border=\"1\" class=\"dataframe\">\n",
       "  <thead>\n",
       "    <tr style=\"text-align: right;\">\n",
       "      <th></th>\n",
       "      <th>total_income_category</th>\n",
       "      <th>debt</th>\n",
       "    </tr>\n",
       "  </thead>\n",
       "  <tbody>\n",
       "    <tr>\n",
       "      <th>0</th>\n",
       "      <td>A</td>\n",
       "      <td>25</td>\n",
       "    </tr>\n",
       "    <tr>\n",
       "      <th>1</th>\n",
       "      <td>B</td>\n",
       "      <td>5041</td>\n",
       "    </tr>\n",
       "    <tr>\n",
       "      <th>2</th>\n",
       "      <td>C</td>\n",
       "      <td>16016</td>\n",
       "    </tr>\n",
       "    <tr>\n",
       "      <th>3</th>\n",
       "      <td>D</td>\n",
       "      <td>350</td>\n",
       "    </tr>\n",
       "    <tr>\n",
       "      <th>4</th>\n",
       "      <td>E</td>\n",
       "      <td>22</td>\n",
       "    </tr>\n",
       "  </tbody>\n",
       "</table>\n",
       "</div>"
      ],
      "text/plain": [
       "  total_income_category   debt\n",
       "0                     A     25\n",
       "1                     B   5041\n",
       "2                     C  16016\n",
       "3                     D    350\n",
       "4                     E     22"
      ]
     },
     "execution_count": 22,
     "metadata": {},
     "output_type": "execute_result"
    }
   ],
   "source": [
    "# Групировка исходной таблицы по столбцу 'total_income_category' с подсчетом количества выданных кредитов.\n",
    "df.groupby('total_income_category')['debt'].count().reset_index()"
   ]
  },
  {
   "cell_type": "code",
   "execution_count": 23,
   "id": "5e611c23",
   "metadata": {},
   "outputs": [
    {
     "data": {
      "text/html": [
       "<div>\n",
       "<style scoped>\n",
       "    .dataframe tbody tr th:only-of-type {\n",
       "        vertical-align: middle;\n",
       "    }\n",
       "\n",
       "    .dataframe tbody tr th {\n",
       "        vertical-align: top;\n",
       "    }\n",
       "\n",
       "    .dataframe thead th {\n",
       "        text-align: right;\n",
       "    }\n",
       "</style>\n",
       "<table border=\"1\" class=\"dataframe\">\n",
       "  <thead>\n",
       "    <tr style=\"text-align: right;\">\n",
       "      <th></th>\n",
       "      <th>total_income_category</th>\n",
       "      <th>debt</th>\n",
       "    </tr>\n",
       "  </thead>\n",
       "  <tbody>\n",
       "    <tr>\n",
       "      <th>0</th>\n",
       "      <td>A</td>\n",
       "      <td>8.00</td>\n",
       "    </tr>\n",
       "    <tr>\n",
       "      <th>1</th>\n",
       "      <td>B</td>\n",
       "      <td>7.06</td>\n",
       "    </tr>\n",
       "    <tr>\n",
       "      <th>2</th>\n",
       "      <td>C</td>\n",
       "      <td>8.49</td>\n",
       "    </tr>\n",
       "    <tr>\n",
       "      <th>3</th>\n",
       "      <td>D</td>\n",
       "      <td>6.00</td>\n",
       "    </tr>\n",
       "    <tr>\n",
       "      <th>4</th>\n",
       "      <td>E</td>\n",
       "      <td>9.09</td>\n",
       "    </tr>\n",
       "  </tbody>\n",
       "</table>\n",
       "</div>"
      ],
      "text/plain": [
       "  total_income_category  debt\n",
       "0                     A  8.00\n",
       "1                     B  7.06\n",
       "2                     C  8.49\n",
       "3                     D  6.00\n",
       "4                     E  9.09"
      ]
     },
     "execution_count": 23,
     "metadata": {},
     "output_type": "execute_result"
    }
   ],
   "source": [
    "# Подсчет в % количества не выданных кредитов.\n",
    "(\n",
    "    df[df['debt'] == 1]\n",
    "    .groupby('total_income_category')['debt']\n",
    "    .count() * 100 / df\n",
    "    .groupby('total_income_category')['debt']\n",
    "    .count()\n",
    ").round(2).reset_index()"
   ]
  },
  {
   "cell_type": "markdown",
   "id": "3f896f61",
   "metadata": {},
   "source": [
    "Больше всего кредитов берут люди с доходом 'C': 50 001 - 200 000 и в диапазоне 'B': 200 001 - 1 000 000. <br>\n",
    "В то время как люди с малым доходом и очень большим кредитами пользуются реже.<br>\n",
    "Разброс значений невозвратов в пределах от 6% до 9,1% довольно большой. Но если объединить крайние выборки с соседними, картина изменится. Если отбросить значения для выборок 'A' и 'E', будет видно, что хуже всего с возвратом дело обстоит в категории 'C'"
   ]
  },
  {
   "cell_type": "markdown",
   "id": "98610680",
   "metadata": {},
   "source": [
    "#### 3.4 Проверка зависимости целей кредита и возвратом его в срок."
   ]
  },
  {
   "cell_type": "code",
   "execution_count": 24,
   "id": "4b91dd12",
   "metadata": {},
   "outputs": [
    {
     "data": {
      "text/html": [
       "<div>\n",
       "<style scoped>\n",
       "    .dataframe tbody tr th:only-of-type {\n",
       "        vertical-align: middle;\n",
       "    }\n",
       "\n",
       "    .dataframe tbody tr th {\n",
       "        vertical-align: top;\n",
       "    }\n",
       "\n",
       "    .dataframe thead th {\n",
       "        text-align: right;\n",
       "    }\n",
       "</style>\n",
       "<table border=\"1\" class=\"dataframe\">\n",
       "  <thead>\n",
       "    <tr style=\"text-align: right;\">\n",
       "      <th></th>\n",
       "      <th>purpose_category</th>\n",
       "      <th>debt</th>\n",
       "    </tr>\n",
       "  </thead>\n",
       "  <tbody>\n",
       "    <tr>\n",
       "      <th>0</th>\n",
       "      <td>операции с автомобилем</td>\n",
       "      <td>4306</td>\n",
       "    </tr>\n",
       "    <tr>\n",
       "      <th>1</th>\n",
       "      <td>операции с недвижимостью</td>\n",
       "      <td>10811</td>\n",
       "    </tr>\n",
       "    <tr>\n",
       "      <th>2</th>\n",
       "      <td>получение образования</td>\n",
       "      <td>4013</td>\n",
       "    </tr>\n",
       "    <tr>\n",
       "      <th>3</th>\n",
       "      <td>проведение свадьбы</td>\n",
       "      <td>2324</td>\n",
       "    </tr>\n",
       "  </tbody>\n",
       "</table>\n",
       "</div>"
      ],
      "text/plain": [
       "           purpose_category   debt\n",
       "0    операции с автомобилем   4306\n",
       "1  операции с недвижимостью  10811\n",
       "2     получение образования   4013\n",
       "3        проведение свадьбы   2324"
      ]
     },
     "execution_count": 24,
     "metadata": {},
     "output_type": "execute_result"
    }
   ],
   "source": [
    "# Групировка исходной таблицы по столбцу 'purpose_category' с подсчетом количества выданных кредитов.\n",
    "df.groupby('purpose_category')['debt'].count().reset_index()"
   ]
  },
  {
   "cell_type": "code",
   "execution_count": 25,
   "id": "13f145ad",
   "metadata": {},
   "outputs": [
    {
     "data": {
      "text/html": [
       "<div>\n",
       "<style scoped>\n",
       "    .dataframe tbody tr th:only-of-type {\n",
       "        vertical-align: middle;\n",
       "    }\n",
       "\n",
       "    .dataframe tbody tr th {\n",
       "        vertical-align: top;\n",
       "    }\n",
       "\n",
       "    .dataframe thead th {\n",
       "        text-align: right;\n",
       "    }\n",
       "</style>\n",
       "<table border=\"1\" class=\"dataframe\">\n",
       "  <thead>\n",
       "    <tr style=\"text-align: right;\">\n",
       "      <th></th>\n",
       "      <th>purpose_category</th>\n",
       "      <th>debt</th>\n",
       "    </tr>\n",
       "  </thead>\n",
       "  <tbody>\n",
       "    <tr>\n",
       "      <th>0</th>\n",
       "      <td>операции с автомобилем</td>\n",
       "      <td>9.36</td>\n",
       "    </tr>\n",
       "    <tr>\n",
       "      <th>1</th>\n",
       "      <td>операции с недвижимостью</td>\n",
       "      <td>7.23</td>\n",
       "    </tr>\n",
       "    <tr>\n",
       "      <th>2</th>\n",
       "      <td>получение образования</td>\n",
       "      <td>9.22</td>\n",
       "    </tr>\n",
       "    <tr>\n",
       "      <th>3</th>\n",
       "      <td>проведение свадьбы</td>\n",
       "      <td>8.00</td>\n",
       "    </tr>\n",
       "  </tbody>\n",
       "</table>\n",
       "</div>"
      ],
      "text/plain": [
       "           purpose_category  debt\n",
       "0    операции с автомобилем  9.36\n",
       "1  операции с недвижимостью  7.23\n",
       "2     получение образования  9.22\n",
       "3        проведение свадьбы  8.00"
      ]
     },
     "execution_count": 25,
     "metadata": {},
     "output_type": "execute_result"
    }
   ],
   "source": [
    "# Подсчет в % количества не выданных кредитов.\n",
    "(\n",
    "    df[df['debt'] == 1]\n",
    "    .groupby('purpose_category')['debt']\n",
    "    .count() * 100 / df\n",
    "    .groupby('purpose_category')['debt']\n",
    "    .count()\n",
    ").round(2).reset_index()"
   ]
  },
  {
   "cell_type": "markdown",
   "id": "d8a3a471",
   "metadata": {},
   "source": [
    "Лучше всего возвращают кредиты на недвижимость. <br>\n",
    "В то время как кредиты на образование и покупку автомобиля возвращают хуже всего.<br>\n",
    "Разброс результатов от 7,2% до 9,4% не большой. Но все таки показательный. На свадьбу берут кредитов меньше чем на недвижимость, но возвращают хуже. А вот автомобильные и образовательные кредиты имеют примерно одинаковую картину невозвратов."
   ]
  },
  {
   "cell_type": "markdown",
   "id": "95c71c1f",
   "metadata": {},
   "source": [
    "#### 3.5 Проверка зависимости уровня образования и возвратом кредита в срок."
   ]
  },
  {
   "cell_type": "code",
   "execution_count": 29,
   "id": "5d69a6ab",
   "metadata": {},
   "outputs": [
    {
     "data": {
      "image/png": "[encoded data removed]",
      "text/plain": [
       "<Figure size 800x320 with 1 Axes>"
      ]
     },
     "metadata": {},
     "output_type": "display_data"
    }
   ],
   "source": [
    "# Cтолбец с меткой о задолженности заменяем на более читаемый\n",
    "df['debt'] = df['debt'].apply(lambda x: 'должник' if x == 1 else 'не должник')\n",
    "\n",
    "# Группируем данные по образованию и задолженности и считаем медианный доход\n",
    "df_ed = df.groupby(['education', 'debt'], \\\n",
    "                        as_index = False)[['total_income']].median()\n",
    "\n",
    "# Используем стиль dark из библиотеки seaborn\n",
    "sns.set_style('dark')\n",
    "\n",
    "# Назначаем размер графика\n",
    "plt.figure(figsize=(10, 4))\n",
    "\n",
    "# Строим столбчатый график средствами seaborn\n",
    "sns.barplot(x='total_income', y='education', data=df_ed, hue='debt')\n",
    "\n",
    "# Формируем заголовок графика и подписи осей средствами matplotlib\n",
    "plt.title('График дохода в зависимости от образования')\n",
    "plt.xlabel('Медианный доход')\n",
    "plt.ylabel('Образование')\n",
    "\n",
    "# Поворачиваем подписи значений по оси X на 45 градусов\n",
    "plt.xticks(rotation=45)\n",
    "\n",
    "# Выбираем положение легенды и указываем размер шрифта\n",
    "plt.legend(loc='lower right', fontsize=10)\n",
    "\n",
    "# Добавляем сетку\n",
    "plt.grid()\n",
    "\n",
    "# Отображаем график на экране\n",
    "plt.show()"
   ]
  },
  {
   "cell_type": "markdown",
   "id": "e5b6c9b3",
   "metadata": {},
   "source": [
    "### Шаг 4. Общий вывод.\n",
    "\n",
    "В результате полученных данных мы проанализировали влияние на возврат кредита в срок следующих параметров заемщиков: количество детей, семейное положение, уровень дохода и цели кредита.<br>\n",
    "В ходе исследования после обработки исходных данных были проверены четыре вопроса:<br>\n",
    "  \n",
    "- Четкой зависимости невозвратов от количества детей вывести не получилось. Очень большой разброс в полученных результатах.\n",
    "    \n",
    "- Зависимость невозвратов от семейного положения оказалась проста: вкусившие трудности семейной жизни люди склонны более ответственно относиться к обязательствам перед банком.\n",
    "\n",
    "- От уровня дохода невозвраты зависят. Рекомендую пересмотреть параметры выборок.\n",
    "    \n",
    "- Есть зависимость количества невозвратов от целей кредита. Более ответственно люди относятся к кредитам на покупку недвижимости.\n",
    "\n",
    "- Среди людей с ученой степенью должников нет.\n",
    "\n",
    "Полученные данные не позволяют сделать однозначный вывод. Некоторые данные не дают четкой картины.<br>\n",
    "Вдовец с ученой степенью с доходом 30 001 - 50 000, имеющий 5 детей с самой высокой долей вероятности вернет кредит на недвижимость.<br>\n",
    "В то время как холостяк с 20 детьми с доходом до 30 000 врядли вернет кредит на автомобиль."
   ]
  }
 ],
 "metadata": {
  "kernelspec": {
   "display_name": "Python 3 (ipykernel)",
   "language": "python",
   "name": "python3"
  },
  "language_info": {
   "codemirror_mode": {
    "name": "ipython",
    "version": 3
   },
   "file_extension": ".py",
   "mimetype": "text/x-python",
   "name": "python",
   "nbconvert_exporter": "python",
   "pygments_lexer": "ipython3",
   "version": "3.9.12"
  }
 },
 "nbformat": 4,
 "nbformat_minor": 5
}
