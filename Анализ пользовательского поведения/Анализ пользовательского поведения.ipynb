{
 "cells": [
  {
   "cell_type": "markdown",
   "id": "5999b02f",
   "metadata": {},
   "source": [
    "<h1 style=\"color:black; margin-bottom:20px\">Описание проекта</h1><br>\n",
    "Стартап продаёт продукты питания. Нужно разобраться, как ведут себя пользователи мобильного приложения.<br>\n",
    "    \n",
    "Необходимо изучить воронку продаж. Узнать, как пользователи доходят до покупки. Сколько пользователей доходит до покупки, а сколько — «застревает» на предыдущих шагах? На каких именно?<br>\n",
    "    \n",
    "После этого исследовать результаты A/A/B-эксперимента. Дизайнеры захотели поменять шрифты во всём приложении, а менеджеры испугались, что пользователям будет непривычно. Договорились принять решение по результатам A/A/B-теста. Пользователей разбили на 3 группы: 2 контрольные со старыми шрифтами и одну экспериментальную — с новыми. Надо выяснить, какой шрифт лучше.<br>\n",
    "    \n",
    "Создание двух групп A вместо одной имеет определённые преимущества. Если две контрольные группы окажутся равны, можно быть уверенным в точности проведенного тестирования. Если же между значениями A и A будут существенные различия, это поможет обнаружить факторы, которые привели к искажению результатов. Сравнение контрольных групп также помогает понять, сколько времени и данных потребуется для дальнейших тестов.<br>\n",
    "    \n",
    "<h1 style=\"color:black; margin-bottom:20px\">Описание данных</h1><br>\n",
    "Каждая запись в логе — это действие пользователя, или событие.<br>\n",
    "\n",
    "- EventName — название события;\n",
    "- DeviceIDHash — уникальный идентификатор пользователя;\n",
    "- EventTimestamp — время события;\n",
    "- ExpId — номер эксперимента: 246 и 247 — контрольные группы, а 248 — экспериментальная."
   ]
  },
  {
   "cell_type": "markdown",
   "id": "ed7b6494",
   "metadata": {},
   "source": [
    "# Шаг 1. Загрузка данных."
   ]
  },
  {
   "cell_type": "code",
   "execution_count": 1,
   "id": "2f051311",
   "metadata": {},
   "outputs": [],
   "source": [
    "import pandas as pd\n",
    "import numpy as np\n",
    "import datetime as dt\n",
    "from datetime import datetime, timedelta\n",
    "from matplotlib import pyplot as plt\n",
    "import scipy.stats as stats\n",
    "from scipy import stats as st\n",
    "import math as mth\n",
    "import plotly.express as px\n",
    "from plotly import graph_objects as go"
   ]
  },
  {
   "cell_type": "code",
   "execution_count": 2,
   "id": "d0a946c9",
   "metadata": {},
   "outputs": [],
   "source": [
    "data = pd.read_csv('/datasets/logs_exp.csv', delimiter='\\t')"
   ]
  },
  {
   "cell_type": "code",
   "execution_count": 9,
   "id": "8801abb7",
   "metadata": {},
   "outputs": [
    {
     "name": "stdout",
     "output_type": "stream",
     "text": [
      "<class 'pandas.core.frame.DataFrame'>\n",
      "RangeIndex: 244126 entries, 0 to 244125\n",
      "Data columns (total 4 columns):\n",
      " #   Column          Non-Null Count   Dtype \n",
      "---  ------          --------------   ----- \n",
      " 0   EventName       244126 non-null  object\n",
      " 1   DeviceIDHash    244126 non-null  int64 \n",
      " 2   EventTimestamp  244126 non-null  int64 \n",
      " 3   ExpId           244126 non-null  int64 \n",
      "dtypes: int64(3), object(1)\n",
      "memory usage: 7.5+ MB\n"
     ]
    }
   ],
   "source": [
    "data.info()"
   ]
  },
  {
   "cell_type": "markdown",
   "id": "e776ed6d",
   "metadata": {},
   "source": [
    "# Шаг 2. Подготовка данных"
   ]
  },
  {
   "cell_type": "code",
   "execution_count": 12,
   "id": "08234f84",
   "metadata": {},
   "outputs": [],
   "source": [
    "# приведение названий столбцов к нижнему регистру. Удаление пробелов\n",
    "data = data.rename(columns={'EventName': 'event_name', \n",
    "                            'DeviceIDHash': 'device_id', \n",
    "                            'EventTimestamp': 'event_time', \n",
    "                            'ExpId': 'exp_id'})"
   ]
  },
  {
   "cell_type": "code",
   "execution_count": 8,
   "id": "fa36903c",
   "metadata": {},
   "outputs": [
    {
     "name": "stdout",
     "output_type": "stream",
     "text": [
      "Дубликатов: 413\n"
     ]
    },
    {
     "data": {
      "text/plain": [
       "'Пропусков в столбцах:'"
      ]
     },
     "metadata": {},
     "output_type": "display_data"
    },
    {
     "data": {
      "text/plain": [
       "EventName         0\n",
       "DeviceIDHash      0\n",
       "EventTimestamp    0\n",
       "ExpId             0\n",
       "dtype: int64"
      ]
     },
     "metadata": {},
     "output_type": "display_data"
    }
   ],
   "source": [
    "# проверка на наличие дубликатов\n",
    "print('Дубликатов:', data.duplicated().sum())\n",
    "\n",
    "# проверка на наличие пропусков\n",
    "display('Пропусков в столбцах:', data.isna().sum())"
   ]
  },
  {
   "cell_type": "markdown",
   "id": "e2ae7def",
   "metadata": {},
   "source": [
    "Пропусков нет.<br>\n",
    "Дубликатов 413 строк, что составляет всего 0,17%. Дубликаты просто удаляем."
   ]
  },
  {
   "cell_type": "code",
   "execution_count": 10,
   "id": "f3515c4b",
   "metadata": {},
   "outputs": [],
   "source": [
    "# удаление дубликатов\n",
    "data = data.drop_duplicates()"
   ]
  },
  {
   "cell_type": "code",
   "execution_count": 13,
   "id": "4fe03ab5",
   "metadata": {},
   "outputs": [],
   "source": [
    "# перевод столбца в типа data\n",
    "data['event_time'] = pd.to_datetime(data['event_time'], unit='s')\n",
    "\n",
    "# добавление нового столбца\n",
    "data['date_new'] = data['event_time']\n",
    "\n",
    "# добавление отдельного столбца дат\n",
    "data['data'] = data['event_time'].dt.date"
   ]
  },
  {
   "cell_type": "markdown",
   "id": "6efd9b69",
   "metadata": {},
   "source": [
    "# Шаг 3. Изучение и проверка данных\n",
    "### Сколько всего событий в логе?\n",
    "### Сколько всего пользователей в логе?\n",
    "### Сколько в среднем событий приходится на пользователя?"
   ]
  },
  {
   "cell_type": "code",
   "execution_count": 31,
   "id": "1878ba3f",
   "metadata": {},
   "outputs": [
    {
     "name": "stdout",
     "output_type": "stream",
     "text": [
      "Типов событий в логе: 5\n",
      "Количество событий: 243713\n"
     ]
    },
    {
     "data": {
      "text/plain": [
       "'Типы событий и их количество:'"
      ]
     },
     "metadata": {},
     "output_type": "display_data"
    },
    {
     "data": {
      "text/plain": [
       "event_name\n",
       "CartScreenAppear            42668\n",
       "MainScreenAppear           119101\n",
       "OffersScreenAppear          46808\n",
       "PaymentScreenSuccessful     34118\n",
       "Tutorial                     1018\n",
       "Name: device_id, dtype: int64"
      ]
     },
     "metadata": {},
     "output_type": "display_data"
    },
    {
     "name": "stdout",
     "output_type": "stream",
     "text": [
      "--------------------------------------------------------------------------------------\n",
      "Пользователей в логе: 7551\n",
      "В среднем приходится на пользователя  32.28 событий\n"
     ]
    }
   ],
   "source": [
    "print('Типов событий в логе:',data['event_name'].nunique())\n",
    "print('Количество событий:',len(data))\n",
    "display('Типы событий и их количество:', data.groupby('event_name')['device_id'].count())\n",
    "print('--------------------------------------------------------------------------------------')\n",
    "print('Пользователей в логе:', data['device_id'].nunique())\n",
    "print('В среднем приходится на пользователя ', round(len(data)/data['device_id'].nunique(), 2), 'событий')"
   ]
  },
  {
   "cell_type": "markdown",
   "id": "d5129251",
   "metadata": {},
   "source": [
    "### Данные за какой период имеются? Надо найти максимальную и минимальную дату. Построить гистограмму по дате и времени."
   ]
  },
  {
   "cell_type": "code",
   "execution_count": 33,
   "id": "74734145",
   "metadata": {},
   "outputs": [
    {
     "name": "stdout",
     "output_type": "stream",
     "text": [
      "Минимальная дата: 2019-07-25 04:43:36\n",
      "Максимальная дата: 2019-08-07 21:15:17\n",
      "Количества дат в данных 14\n"
     ]
    }
   ],
   "source": [
    "print('Минимальная дата:', data['event_time'].min())\n",
    "print('Максимальная дата:', data['event_time'].max())\n",
    "\n",
    "# подсчет количества дат в данных для подсчета корзин в гистограмме\n",
    "print('Количества дат в данных:', data['data'].nunique())"
   ]
  },
  {
   "cell_type": "code",
   "execution_count": 35,
   "id": "d0391687",
   "metadata": {},
   "outputs": [
    {
     "data": {
      "image/png": "[encoded data removed]",
      "text/plain": [
       "<Figure size 864x432 with 1 Axes>"
      ]
     },
     "metadata": {
      "needs_background": "light"
     },
     "output_type": "display_data"
    }
   ],
   "source": [
    "# построение гистограммы\n",
    "plt.figure(figsize=(12, 6))\n",
    "plt.hist(data['event_time'], bins=14)\n",
    "plt.xlabel('Дата', fontsize=15, fontweight='bold')\n",
    "plt.ylabel('Количество событий', fontsize=15, fontweight='bold')\n",
    "plt.title('Гистограмма количества событий по датам', fontsize=15, fontweight='bold')\n",
    "plt.grid()\n",
    "plt.show() "
   ]
  },
  {
   "cell_type": "markdown",
   "id": "682639ee",
   "metadata": {},
   "source": [
    "### Можно ли быть уверенным, что имеются одинаково полные данные за весь период? Технически в логи новых дней по некоторым пользователям могут «доезжать» события из прошлого — это может «перекашивать данные». Надо определить, с какого момента данные полные и отбросить более старые. \n"
   ]
  },
  {
   "cell_type": "code",
   "execution_count": 36,
   "id": "acab3d03",
   "metadata": {},
   "outputs": [
    {
     "data": {
      "text/plain": [
       "data\n",
       "2019-07-25        9\n",
       "2019-07-26       31\n",
       "2019-07-27       55\n",
       "2019-07-28      105\n",
       "2019-07-29      184\n",
       "2019-07-30      412\n",
       "2019-07-31     2030\n",
       "2019-08-01    36141\n",
       "2019-08-02    35554\n",
       "2019-08-03    33282\n",
       "2019-08-04    32968\n",
       "2019-08-05    36058\n",
       "2019-08-06    35788\n",
       "2019-08-07    31096\n",
       "Name: event_name, dtype: int64"
      ]
     },
     "execution_count": 36,
     "metadata": {},
     "output_type": "execute_result"
    }
   ],
   "source": [
    "# подсчет количества событий по датам\n",
    "data.groupby('data')['event_name'].count()"
   ]
  },
  {
   "cell_type": "markdown",
   "id": "021ed148",
   "metadata": {},
   "source": [
    "Из гистограммы и подсчета количества по датам видно, что с 1-го числа августа месяца 2019 года мы видим резкое увеличение количества событий.<br>\n",
    "Имеет смысл отфильтровать данные с 01.08.2019.<br>\n",
    "В августе количество событий по датам стабильно с 31 до 36 тысяч штук в день.<br>\n",
    "Можно считать, что данные \"доехали\""
   ]
  },
  {
   "cell_type": "code",
   "execution_count": 38,
   "id": "dd648c44",
   "metadata": {},
   "outputs": [
    {
     "data": {
      "image/png": "[encoded data removed]",
      "text/plain": [
       "<Figure size 864x432 with 1 Axes>"
      ]
     },
     "metadata": {
      "needs_background": "light"
     },
     "output_type": "display_data"
    }
   ],
   "source": [
    "# построение гистограммы\n",
    "data_f = data.query('event_time > \"2019-08-01 00:00:00\"')\n",
    "plt.figure(figsize=(12, 6))\n",
    "plt.hist(data_f['event_time'], bins=7)\n",
    "plt.xlabel('Дата', fontsize=15, fontweight='bold')\n",
    "plt.ylabel('Количество событий', fontsize=15, fontweight='bold')\n",
    "plt.title('Гистограмма количества событий по датам', fontsize=15, fontweight='bold')\n",
    "plt.grid()\n",
    "plt.show() "
   ]
  },
  {
   "cell_type": "markdown",
   "id": "3f3cb2ef",
   "metadata": {},
   "source": [
    "### Много ли событий и пользователей потеряли, отбросив старые данные?"
   ]
  },
  {
   "cell_type": "code",
   "execution_count": 43,
   "id": "074d9a48",
   "metadata": {},
   "outputs": [
    {
     "name": "stdout",
     "output_type": "stream",
     "text": [
      "Осталось 98.84 % событий\n",
      "Осталось 99.77 % пользователей\n",
      "Удалено 2826 строк\n"
     ]
    },
    {
     "data": {
      "text/plain": [
       "'Осталось по группам в процентах:'"
      ]
     },
     "metadata": {},
     "output_type": "display_data"
    },
    {
     "data": {
      "text/plain": [
       "exp_id\n",
       "246    98.90\n",
       "247    98.81\n",
       "248    98.81\n",
       "Name: event_name, dtype: float64"
      ]
     },
     "metadata": {},
     "output_type": "display_data"
    }
   ],
   "source": [
    "print(F\"Осталось {round(len(data_f) / len(data) * 100, 2)} % событий\")\n",
    "print(F\"Осталось {round(data_f['device_id'].nunique() / data['device_id'].nunique() * 100, 2)} % пользователей\")\n",
    "print(F\"Удалено {len(data) - len(data_f)} строк\")\n",
    "\n",
    "# проверка остатка количества пользователей из всех трёх экспериментальных групп.\n",
    "display('Осталось по группам в процентах:', round(data_f.groupby('exp_id')['event_name'].count()/\n",
    "                      data.groupby('exp_id')['event_name'].count()*100, 2))"
   ]
  },
  {
   "cell_type": "markdown",
   "id": "2771ae4f",
   "metadata": {},
   "source": [
    "# Шаг 4. Изучение воронки событий\n",
    "### Какие события есть в логах и как часто они встречаются? Сортировка события по частоте."
   ]
  },
  {
   "cell_type": "code",
   "execution_count": 47,
   "id": "4adb00b3",
   "metadata": {},
   "outputs": [
    {
     "name": "stdout",
     "output_type": "stream",
     "text": [
      "Типов событий в логе: 5\n",
      "--------------------------------------------------------------------------------------\n",
      "Типы событий: ['Tutorial' 'MainScreenAppear' 'OffersScreenAppear' 'CartScreenAppear'\n",
      " 'PaymentScreenSuccessful']\n",
      "--------------------------------------------------------------------------------------\n"
     ]
    },
    {
     "data": {
      "text/plain": [
       "'Сортировка по частоте событий'"
      ]
     },
     "metadata": {},
     "output_type": "display_data"
    },
    {
     "data": {
      "text/plain": [
       "MainScreenAppear           117328\n",
       "OffersScreenAppear          46333\n",
       "CartScreenAppear            42303\n",
       "PaymentScreenSuccessful     33918\n",
       "Tutorial                     1005\n",
       "Name: event_name, dtype: int64"
      ]
     },
     "metadata": {},
     "output_type": "display_data"
    },
    {
     "name": "stdout",
     "output_type": "stream",
     "text": [
      "--------------------------------------------------------------------------------------\n"
     ]
    },
    {
     "data": {
      "text/plain": [
       "'Сортировка в процентах по частоте событий'"
      ]
     },
     "metadata": {},
     "output_type": "display_data"
    },
    {
     "data": {
      "text/plain": [
       "MainScreenAppear           48.71\n",
       "OffersScreenAppear         19.23\n",
       "CartScreenAppear           17.56\n",
       "PaymentScreenSuccessful    14.08\n",
       "Tutorial                    0.42\n",
       "Name: event_name, dtype: float64"
      ]
     },
     "metadata": {},
     "output_type": "display_data"
    }
   ],
   "source": [
    "print('Типов событий в логе:',data_f['event_name'].nunique())\n",
    "print('--------------------------------------------------------------------------------------')\n",
    "print('Типы событий:',data_f['event_name'].unique())\n",
    "print('--------------------------------------------------------------------------------------')\n",
    "\n",
    "# сортировка по частоте событий\n",
    "display('Сортировка по частоте событий', data_f['event_name'].value_counts())\n",
    "print('--------------------------------------------------------------------------------------')\n",
    "\n",
    "# сортировка в процентах по частоте событий\n",
    "display('Сортировка в процентах по частоте событий', round(data_f['event_name'].value_counts()/len(data_f)*100, 2))"
   ]
  },
  {
   "cell_type": "markdown",
   "id": "264b8591",
   "metadata": {},
   "source": [
    "В логах всего 5 событий.<br>\n",
    "Чаще всего происходит MainScreenAppear - более 48%.<br>\n",
    "Реже всего происходит Tutorial - менее 0,5%"
   ]
  },
  {
   "cell_type": "markdown",
   "id": "89d31e25",
   "metadata": {},
   "source": [
    "### Сколько пользователей совершали каждое из этих событий? Какова доля пользователей, которые хоть раз совершали событие?"
   ]
  },
  {
   "cell_type": "code",
   "execution_count": 60,
   "id": "83ece19a",
   "metadata": {},
   "outputs": [
    {
     "data": {
      "text/plain": [
       "'Количество пользователей совершивших событие'"
      ]
     },
     "metadata": {},
     "output_type": "display_data"
    },
    {
     "data": {
      "text/html": [
       "<div>\n",
       "<style scoped>\n",
       "    .dataframe tbody tr th:only-of-type {\n",
       "        vertical-align: middle;\n",
       "    }\n",
       "\n",
       "    .dataframe tbody tr th {\n",
       "        vertical-align: top;\n",
       "    }\n",
       "\n",
       "    .dataframe thead th {\n",
       "        text-align: right;\n",
       "    }\n",
       "</style>\n",
       "<table border=\"1\" class=\"dataframe\">\n",
       "  <thead>\n",
       "    <tr style=\"text-align: right;\">\n",
       "      <th></th>\n",
       "      <th>Название события</th>\n",
       "      <th>Количество пользователей, совершивших событие</th>\n",
       "      <th>Количество в %</th>\n",
       "    </tr>\n",
       "  </thead>\n",
       "  <tbody>\n",
       "    <tr>\n",
       "      <th>0</th>\n",
       "      <td>MainScreenAppear</td>\n",
       "      <td>7419</td>\n",
       "      <td>98.47</td>\n",
       "    </tr>\n",
       "    <tr>\n",
       "      <th>1</th>\n",
       "      <td>OffersScreenAppear</td>\n",
       "      <td>4593</td>\n",
       "      <td>60.96</td>\n",
       "    </tr>\n",
       "    <tr>\n",
       "      <th>2</th>\n",
       "      <td>CartScreenAppear</td>\n",
       "      <td>3734</td>\n",
       "      <td>49.56</td>\n",
       "    </tr>\n",
       "    <tr>\n",
       "      <th>3</th>\n",
       "      <td>PaymentScreenSuccessful</td>\n",
       "      <td>3539</td>\n",
       "      <td>46.97</td>\n",
       "    </tr>\n",
       "    <tr>\n",
       "      <th>4</th>\n",
       "      <td>Tutorial</td>\n",
       "      <td>840</td>\n",
       "      <td>11.15</td>\n",
       "    </tr>\n",
       "  </tbody>\n",
       "</table>\n",
       "</div>"
      ],
      "text/plain": [
       "          Название события  Количество пользователей, совершивших событие  \\\n",
       "0         MainScreenAppear                                           7419   \n",
       "1       OffersScreenAppear                                           4593   \n",
       "2         CartScreenAppear                                           3734   \n",
       "3  PaymentScreenSuccessful                                           3539   \n",
       "4                 Tutorial                                            840   \n",
       "\n",
       "   Количество в %  \n",
       "0           98.47  \n",
       "1           60.96  \n",
       "2           49.56  \n",
       "3           46.97  \n",
       "4           11.15  "
      ]
     },
     "metadata": {},
     "output_type": "display_data"
    }
   ],
   "source": [
    "# сортировка количества пользователей совершивших событие\n",
    "data_vor = pd.pivot_table(data_f,\n",
    "               index=[\"event_name\"],\n",
    "               values=[\"device_id\"],\n",
    "               aggfunc={'device_id': 'nunique'}).sort_values(by='device_id', ascending=False).reset_index()\n",
    "\n",
    "# подсчет доли пользователей совершивших события в процентах\n",
    "data_vor['dev_id_to_all'] = round(data_vor['device_id'] / data_f['device_id'].nunique() * 100, 2)\n",
    "data_vor = data_vor.rename(columns={'event_name': 'Название события',\n",
    "                                    'device_id': 'Количество пользователей, совершивших событие',\n",
    "                                    'dev_id_to_all': 'Количество в %'})\n",
    "display('Количество пользователей совершивших событие', data_vor)"
   ]
  },
  {
   "cell_type": "markdown",
   "id": "bf2a5401",
   "metadata": {},
   "source": [
    "Из полученных данных следует, что не все пользователи начинали с главного экрана. Вероятно они по ссылке из поисковика переходили сразу на страницу предложений. В таком случае имеет смысл считать переходящих на страницу предложений от общего количества пользователей.<br>\n",
    "Поле Tutorial в воронке продаж не участвует. На него могут переходить в любой момент. <br>\n",
    "Поэтому воронка выглядит так:<br>\n",
    "Все пользователи --> OffersScreenAppear --> CartScreenAppear --> PaymentScreenSuccessful<br>\n",
    "      100%       -->         60.98%     -->       49.56      -->         46.96"
   ]
  },
  {
   "cell_type": "code",
   "execution_count": 52,
   "id": "02929edc",
   "metadata": {},
   "outputs": [
    {
     "data": {
      "text/plain": [
       "array(['MainScreenAppear', 'OffersScreenAppear', 'CartScreenAppear',\n",
       "       'PaymentScreenSuccessful'], dtype=object)"
      ]
     },
     "execution_count": 52,
     "metadata": {},
     "output_type": "execute_result"
    }
   ],
   "source": [
    "events = data_f[data_f['event_name'] != 'Tutorial']['event_name'].unique()\n",
    "events"
   ]
  },
  {
   "cell_type": "markdown",
   "id": "628a1cf8",
   "metadata": {},
   "source": [
    "### По воронке событий необходимо посчитать, какая доля пользователей проходит на следующий шаг воронки (от числа пользователей на предыдущем)."
   ]
  },
  {
   "cell_type": "code",
   "execution_count": 55,
   "id": "65f5d3fa",
   "metadata": {},
   "outputs": [
    {
     "data": {
      "text/html": [
       "<div>\n",
       "<style scoped>\n",
       "    .dataframe tbody tr th:only-of-type {\n",
       "        vertical-align: middle;\n",
       "    }\n",
       "\n",
       "    .dataframe tbody tr th {\n",
       "        vertical-align: top;\n",
       "    }\n",
       "\n",
       "    .dataframe thead th {\n",
       "        text-align: right;\n",
       "    }\n",
       "</style>\n",
       "<table border=\"1\" class=\"dataframe\">\n",
       "  <thead>\n",
       "    <tr style=\"text-align: right;\">\n",
       "      <th></th>\n",
       "      <th>Название события</th>\n",
       "      <th>Количество пользователей, совершивших событие</th>\n",
       "      <th>Количество в %</th>\n",
       "      <th>vor</th>\n",
       "    </tr>\n",
       "  </thead>\n",
       "  <tbody>\n",
       "    <tr>\n",
       "      <th>0</th>\n",
       "      <td>MainScreenAppear</td>\n",
       "      <td>7419</td>\n",
       "      <td>98.47</td>\n",
       "      <td>inf</td>\n",
       "    </tr>\n",
       "    <tr>\n",
       "      <th>1</th>\n",
       "      <td>OffersScreenAppear</td>\n",
       "      <td>4593</td>\n",
       "      <td>60.96</td>\n",
       "      <td>61.91</td>\n",
       "    </tr>\n",
       "    <tr>\n",
       "      <th>2</th>\n",
       "      <td>CartScreenAppear</td>\n",
       "      <td>3734</td>\n",
       "      <td>49.56</td>\n",
       "      <td>81.30</td>\n",
       "    </tr>\n",
       "    <tr>\n",
       "      <th>3</th>\n",
       "      <td>PaymentScreenSuccessful</td>\n",
       "      <td>3539</td>\n",
       "      <td>46.97</td>\n",
       "      <td>94.78</td>\n",
       "    </tr>\n",
       "  </tbody>\n",
       "</table>\n",
       "</div>"
      ],
      "text/plain": [
       "          Название события  Количество пользователей, совершивших событие  \\\n",
       "0         MainScreenAppear                                           7419   \n",
       "1       OffersScreenAppear                                           4593   \n",
       "2         CartScreenAppear                                           3734   \n",
       "3  PaymentScreenSuccessful                                           3539   \n",
       "\n",
       "   Количество в %    vor  \n",
       "0           98.47    inf  \n",
       "1           60.96  61.91  \n",
       "2           49.56  81.30  \n",
       "3           46.97  94.78  "
      ]
     },
     "execution_count": 55,
     "metadata": {},
     "output_type": "execute_result"
    }
   ],
   "source": [
    "# вычисление воронки\n",
    "data_vor['vor'] = round(data_vor['Количество пользователей, совершивших событие'] / data_vor['Количество пользователей, совершивших событие'].shift(1,fill_value=0) * 100, 2)\n",
    "data_vor.drop(labels = 4 ,axis = 0)"
   ]
  },
  {
   "cell_type": "markdown",
   "id": "43346edf",
   "metadata": {},
   "source": [
    "Из полученных данных следует, что на первом шаге теряется больше всего пользователей. До оплаты доходит 46%"
   ]
  },
  {
   "attachments": {
    "%D0%A1%D0%BD%D0%B8%D0%BC%D0%BE%D0%BA%20%D1%8D%D0%BA%D1%80%D0%B0%D0%BD%D0%B0%20%2848%29.png": {
     "image/png": "[encoded data removed]"
    }
   },
   "cell_type": "markdown",
   "id": "194df5b3",
   "metadata": {},
   "source": [
    "![%D0%A1%D0%BD%D0%B8%D0%BC%D0%BE%D0%BA%20%D1%8D%D0%BA%D1%80%D0%B0%D0%BD%D0%B0%20%2848%29.png](attachment:%D0%A1%D0%BD%D0%B8%D0%BC%D0%BE%D0%BA%20%D1%8D%D0%BA%D1%80%D0%B0%D0%BD%D0%B0%20%2848%29.png)"
   ]
  },
  {
   "cell_type": "markdown",
   "id": "bd655c0e",
   "metadata": {},
   "source": [
    "# Шаг 5. Изучение результатов эксперимента"
   ]
  },
  {
   "cell_type": "code",
   "execution_count": 62,
   "id": "a69dcc05",
   "metadata": {},
   "outputs": [
    {
     "data": {
      "text/html": [
       "<div>\n",
       "<style scoped>\n",
       "    .dataframe tbody tr th:only-of-type {\n",
       "        vertical-align: middle;\n",
       "    }\n",
       "\n",
       "    .dataframe tbody tr th {\n",
       "        vertical-align: top;\n",
       "    }\n",
       "\n",
       "    .dataframe thead th {\n",
       "        text-align: right;\n",
       "    }\n",
       "</style>\n",
       "<table border=\"1\" class=\"dataframe\">\n",
       "  <thead>\n",
       "    <tr style=\"text-align: right;\">\n",
       "      <th></th>\n",
       "      <th>users</th>\n",
       "      <th>events</th>\n",
       "    </tr>\n",
       "    <tr>\n",
       "      <th>exp_id</th>\n",
       "      <th></th>\n",
       "      <th></th>\n",
       "    </tr>\n",
       "  </thead>\n",
       "  <tbody>\n",
       "    <tr>\n",
       "      <th>246</th>\n",
       "      <td>2484</td>\n",
       "      <td>79302</td>\n",
       "    </tr>\n",
       "    <tr>\n",
       "      <th>247</th>\n",
       "      <td>2513</td>\n",
       "      <td>77022</td>\n",
       "    </tr>\n",
       "    <tr>\n",
       "      <th>248</th>\n",
       "      <td>2537</td>\n",
       "      <td>84563</td>\n",
       "    </tr>\n",
       "  </tbody>\n",
       "</table>\n",
       "</div>"
      ],
      "text/plain": [
       "        users  events\n",
       "exp_id               \n",
       "246      2484   79302\n",
       "247      2513   77022\n",
       "248      2537   84563"
      ]
     },
     "execution_count": 62,
     "metadata": {},
     "output_type": "execute_result"
    }
   ],
   "source": [
    "# подсчет количества пользователей и событий в группах\n",
    "groups = data_f.groupby('exp_id').agg(users=('device_id', 'nunique'), \n",
    "                                      events=('event_name','count'))\n",
    "groups"
   ]
  },
  {
   "cell_type": "code",
   "execution_count": 63,
   "id": "862b3a1a",
   "metadata": {},
   "outputs": [
    {
     "data": {
      "text/plain": [
       "array([1], dtype=int64)"
      ]
     },
     "execution_count": 63,
     "metadata": {},
     "output_type": "execute_result"
    }
   ],
   "source": [
    "# проверка количества уникальных значений в столбце с номером группы\n",
    "control_d = data_f.groupby('device_id').agg({'event_name': 'count', 'exp_id': 'nunique'})\n",
    "control_d['exp_id'].unique()"
   ]
  },
  {
   "cell_type": "markdown",
   "id": "c3ab31df",
   "metadata": {},
   "source": [
    "Совпадающих групп по пользователям не обнаружено."
   ]
  },
  {
   "cell_type": "markdown",
   "id": "8b2fa48c",
   "metadata": {},
   "source": [
    "### Есть 2 контрольные группы для А/А-эксперимента, чтобы проверить корректность всех механизмов и расчётов. Надо проверить, находят ли статистические критерии разницу между выборками 246 и 247."
   ]
  },
  {
   "cell_type": "code",
   "execution_count": 64,
   "id": "370eaa89",
   "metadata": {},
   "outputs": [
    {
     "data": {
      "text/html": [
       "<div>\n",
       "<style scoped>\n",
       "    .dataframe tbody tr th:only-of-type {\n",
       "        vertical-align: middle;\n",
       "    }\n",
       "\n",
       "    .dataframe tbody tr th {\n",
       "        vertical-align: top;\n",
       "    }\n",
       "\n",
       "    .dataframe thead th {\n",
       "        text-align: right;\n",
       "    }\n",
       "</style>\n",
       "<table border=\"1\" class=\"dataframe\">\n",
       "  <thead>\n",
       "    <tr style=\"text-align: right;\">\n",
       "      <th>exp_id</th>\n",
       "      <th>246</th>\n",
       "      <th>247</th>\n",
       "      <th>248</th>\n",
       "      <th>246+247</th>\n",
       "    </tr>\n",
       "  </thead>\n",
       "  <tbody>\n",
       "    <tr>\n",
       "      <th>MainScreenAppear</th>\n",
       "      <td>2450</td>\n",
       "      <td>2476</td>\n",
       "      <td>2493</td>\n",
       "      <td>4926</td>\n",
       "    </tr>\n",
       "    <tr>\n",
       "      <th>OffersScreenAppear</th>\n",
       "      <td>1542</td>\n",
       "      <td>1520</td>\n",
       "      <td>1531</td>\n",
       "      <td>3062</td>\n",
       "    </tr>\n",
       "    <tr>\n",
       "      <th>CartScreenAppear</th>\n",
       "      <td>1266</td>\n",
       "      <td>1238</td>\n",
       "      <td>1230</td>\n",
       "      <td>2504</td>\n",
       "    </tr>\n",
       "    <tr>\n",
       "      <th>PaymentScreenSuccessful</th>\n",
       "      <td>1200</td>\n",
       "      <td>1158</td>\n",
       "      <td>1181</td>\n",
       "      <td>2358</td>\n",
       "    </tr>\n",
       "    <tr>\n",
       "      <th>users</th>\n",
       "      <td>2484</td>\n",
       "      <td>2513</td>\n",
       "      <td>2537</td>\n",
       "      <td>4997</td>\n",
       "    </tr>\n",
       "    <tr>\n",
       "      <th>events</th>\n",
       "      <td>79302</td>\n",
       "      <td>77022</td>\n",
       "      <td>84563</td>\n",
       "      <td>156324</td>\n",
       "    </tr>\n",
       "  </tbody>\n",
       "</table>\n",
       "</div>"
      ],
      "text/plain": [
       "exp_id                     246    247    248  246+247\n",
       "MainScreenAppear          2450   2476   2493     4926\n",
       "OffersScreenAppear        1542   1520   1531     3062\n",
       "CartScreenAppear          1266   1238   1230     2504\n",
       "PaymentScreenSuccessful   1200   1158   1181     2358\n",
       "users                     2484   2513   2537     4997\n",
       "events                   79302  77022  84563   156324"
      ]
     },
     "execution_count": 64,
     "metadata": {},
     "output_type": "execute_result"
    }
   ],
   "source": [
    "# создание таблицы с данными по группам\n",
    "group_info = pd.pivot_table(data_f,\n",
    "                           index=['event_name'],\n",
    "                           columns='exp_id',\n",
    "                           values='device_id',\n",
    "                           aggfunc='nunique').sort_values(by=246,ascending=False)\n",
    "\n",
    "# избавляемся от ненужного события\n",
    "group_info = group_info[group_info.index != 'Tutorial']\n",
    "\n",
    "# объединение с транспонированной таблицей по группам в целом\n",
    "group_info = pd.concat([group_info, groups.T])\n",
    "\n",
    "# вычисление суммы для контрольных групп \n",
    "group_info['246+247'] = group_info[246] + group_info[247]\n",
    "\n",
    "group_info"
   ]
  },
  {
   "cell_type": "markdown",
   "id": "97dd8699",
   "metadata": {},
   "source": [
    "Самым популярным событием является MainScreenAppear.<br>\n",
    "Его совершили 98% пользователей во всех группах."
   ]
  },
  {
   "cell_type": "code",
   "execution_count": 65,
   "id": "3b021208",
   "metadata": {},
   "outputs": [
    {
     "name": "stdout",
     "output_type": "stream",
     "text": [
      "Количество пользователей в группе 246: 2450\n",
      "Количество пользователей в группе 247: 2476\n",
      "Доля пользователей группы 246: 98.63%\n",
      "Доля пользователей группы 247: 98.53%\n"
     ]
    }
   ],
   "source": [
    "# подсчет количества пользователей в контрольных группах в событии MainScreenAppear\n",
    "for i in [246, 247]:\n",
    "    print(f\"Количество пользователей в группе {i}: {group_info[i]['MainScreenAppear']}\")\n",
    "    \n",
    "# подсчет доли пользователей, совершивших событие MainScreenAppear в контрольных группах \n",
    "for i in [246, 247]:\n",
    "    print(f\"Доля пользователей группы {i}: {round(group_info[i]['MainScreenAppear'] / group_info[i]['users']*100, 2)}%\")"
   ]
  },
  {
   "cell_type": "markdown",
   "id": "894bb0c0",
   "metadata": {},
   "source": [
    "### Надо проверить, будет ли отличие между группами статистически достоверным. Затем проделать то же самое для всех других событий (удобно обернуть проверку в отдельную функцию). "
   ]
  },
  {
   "cell_type": "code",
   "execution_count": 66,
   "id": "1c05b2a1",
   "metadata": {},
   "outputs": [],
   "source": [
    "def funk_calk(alpha, gr1, gr2, event):\n",
    "    alpha = alpha # критический уровень статистической значимости\n",
    "\n",
    "    # пропорция успехов в первой группе:\n",
    "    p1 = group_info[gr1][event] / group_info[gr1].users\n",
    "\n",
    "    # пропорция успехов во второй группе:\n",
    "    p2 = group_info[gr2][event] / group_info[gr2].users\n",
    "\n",
    "    # пропорция успехов в комбинированном датасете:\n",
    "    p_combined = (group_info[gr1][event] + group_info[gr2][event]) / (group_info[gr1].users + group_info[gr2].users)\n",
    "\n",
    "    # разница пропорций в датасетах\n",
    "    difference = p1 - p2 \n",
    "    \n",
    "    # считаем статистику в ст.отклонениях стандартного нормального распределения\n",
    "    z_value = difference / mth.sqrt(p_combined * (1 - p_combined) * (1/group_info[gr1].users + 1/group_info[gr2].users))\n",
    "\n",
    "    # задаем стандартное нормальное распределение (среднее 0, ст.отклонение 1)\n",
    "    distr = st.norm(0, 1)  \n",
    "    \n",
    "    p_value = (1 - distr.cdf(abs(z_value))) * 2\n",
    "\n",
    "    print('p-значение: ', p_value)\n",
    "\n",
    "    if p_value < alpha:\n",
    "        print('Отвергаем нулевую гипотезу: между группами есть значимая разница')\n",
    "    else:\n",
    "        print(\n",
    "            'Не получилось отвергнуть нулевую гипотезу, нет оснований считать группы разными'\n",
    "        ) "
   ]
  },
  {
   "cell_type": "markdown",
   "id": "85fe7910",
   "metadata": {},
   "source": [
    "### Гипотезы:\n",
    "Нулевая: различие в конверсиях между контрольными группами отсутствует.<br>\n",
    "Альтернативная: различие в конверсиях между контрольными группами статистически достоверно."
   ]
  },
  {
   "cell_type": "code",
   "execution_count": 68,
   "id": "97b22fde",
   "metadata": {},
   "outputs": [
    {
     "name": "stdout",
     "output_type": "stream",
     "text": [
      "Для групп 246 и 247 и события MainScreenAppear получилось следующее:\n",
      "p-значение:  0.7570597232046099\n",
      "Не получилось отвергнуть нулевую гипотезу, нет оснований считать группы разными\n",
      "-----------------------------------------------------------------------------------\n",
      "Для групп 246 и 247 и события OffersScreenAppear получилось следующее:\n",
      "p-значение:  0.2480954578522181\n",
      "Не получилось отвергнуть нулевую гипотезу, нет оснований считать группы разными\n",
      "-----------------------------------------------------------------------------------\n",
      "Для групп 246 и 247 и события CartScreenAppear получилось следующее:\n",
      "p-значение:  0.22883372237997213\n",
      "Не получилось отвергнуть нулевую гипотезу, нет оснований считать группы разными\n",
      "-----------------------------------------------------------------------------------\n",
      "Для групп 246 и 247 и события PaymentScreenSuccessful получилось следующее:\n",
      "p-значение:  0.11456679313141849\n",
      "Не получилось отвергнуть нулевую гипотезу, нет оснований считать группы разными\n",
      "-----------------------------------------------------------------------------------\n"
     ]
    }
   ],
   "source": [
    "gr1 = 246\n",
    "gr2 = 247\n",
    "alpha = 0.01\n",
    "\n",
    "for event in events:\n",
    "    print(f\"Для групп {gr1} и {gr2} и события {event} получилось следующее:\")\n",
    "    funk_calk(alpha, gr1, gr2, event)\n",
    "    print('-----------------------------------------------------------------------------------')"
   ]
  },
  {
   "cell_type": "markdown",
   "id": "ab4dfca7",
   "metadata": {},
   "source": [
    "По полученным данным нет причин считать, что разбиение на группы не корректно.\n",
    "\n",
    "### Аналогично надо поступить с группой с изменённым шрифтом.\n",
    "Затем сравнить результаты с каждой из контрольных групп в отдельности по каждому событию.\n",
    "### Гипотезы:\n",
    "Нулевая: различие в конверсиях между контрольной группой 246 и группой 248 отсутствует.\n",
    "Альтернативная: различие в конверсиях между контрольной группой 246 и группой 248 статистически достоверно."
   ]
  },
  {
   "cell_type": "code",
   "execution_count": 69,
   "id": "6588d729",
   "metadata": {},
   "outputs": [
    {
     "name": "stdout",
     "output_type": "stream",
     "text": [
      "Для групп 246 и 248 и события MainScreenAppear получилось следующее:\n",
      "p-значение:  0.2949721933554552\n",
      "Не получилось отвергнуть нулевую гипотезу, нет оснований считать группы разными\n",
      "-----------------------------------------------------------------------------------\n",
      "Для групп 246 и 248 и события OffersScreenAppear получилось следующее:\n",
      "p-значение:  0.20836205402738917\n",
      "Не получилось отвергнуть нулевую гипотезу, нет оснований считать группы разными\n",
      "-----------------------------------------------------------------------------------\n",
      "Для групп 246 и 248 и события CartScreenAppear получилось следующее:\n",
      "p-значение:  0.07842923237520116\n",
      "Не получилось отвергнуть нулевую гипотезу, нет оснований считать группы разными\n",
      "-----------------------------------------------------------------------------------\n",
      "Для групп 246 и 248 и события PaymentScreenSuccessful получилось следующее:\n",
      "p-значение:  0.2122553275697796\n",
      "Не получилось отвергнуть нулевую гипотезу, нет оснований считать группы разными\n",
      "-----------------------------------------------------------------------------------\n"
     ]
    }
   ],
   "source": [
    "gr1 = 246\n",
    "gr2 = 248\n",
    "alpha = 0.01\n",
    "\n",
    "for event in events:\n",
    "    print(f\"Для групп {gr1} и {gr2} и события {event} получилось следующее:\")\n",
    "    funk_calk(alpha, gr1, gr2, event)\n",
    "    print('-----------------------------------------------------------------------------------')"
   ]
  },
  {
   "cell_type": "markdown",
   "id": "9b6671c1",
   "metadata": {},
   "source": [
    "### Гипотезы:\n",
    "Нулевая: различие в конверсиях между контрольной группой 247 и группой 248 отсутствует.\n",
    "Альтернативная: различие в конверсиях между контрольной группой 247 и группой 248 статистически достоверно."
   ]
  },
  {
   "cell_type": "code",
   "execution_count": 70,
   "id": "3d0ed318",
   "metadata": {},
   "outputs": [
    {
     "name": "stdout",
     "output_type": "stream",
     "text": [
      "Для групп 247 и 248 и события MainScreenAppear получилось следующее:\n",
      "p-значение:  0.4587053616621515\n",
      "Не получилось отвергнуть нулевую гипотезу, нет оснований считать группы разными\n",
      "-----------------------------------------------------------------------------------\n",
      "Для групп 247 и 248 и события OffersScreenAppear получилось следующее:\n",
      "p-значение:  0.9197817830592261\n",
      "Не получилось отвергнуть нулевую гипотезу, нет оснований считать группы разными\n",
      "-----------------------------------------------------------------------------------\n",
      "Для групп 247 и 248 и события CartScreenAppear получилось следующее:\n",
      "p-значение:  0.5786197879539783\n",
      "Не получилось отвергнуть нулевую гипотезу, нет оснований считать группы разными\n",
      "-----------------------------------------------------------------------------------\n",
      "Для групп 247 и 248 и события PaymentScreenSuccessful получилось следующее:\n",
      "p-значение:  0.7373415053803964\n",
      "Не получилось отвергнуть нулевую гипотезу, нет оснований считать группы разными\n",
      "-----------------------------------------------------------------------------------\n"
     ]
    }
   ],
   "source": [
    "gr1 = 247\n",
    "gr2 = 248\n",
    "alpha = 0.01\n",
    "\n",
    "for event in events:\n",
    "    print(f\"Для групп {gr1} и {gr2} и события {event} получилось следующее:\")\n",
    "    funk_calk(alpha, gr1, gr2, event)\n",
    "    print('-----------------------------------------------------------------------------------')"
   ]
  },
  {
   "cell_type": "markdown",
   "id": "5ef1011f",
   "metadata": {},
   "source": [
    "### Гипотезы:\n",
    "Нулевая: различие в конверсиях между объединенной контрольной группой и группой 248 отсутствует.\n",
    "Альтернативная: различие в конверсиях между объединенной контрольной группой и группой 248 статистически достоверно."
   ]
  },
  {
   "cell_type": "code",
   "execution_count": 71,
   "id": "4833cc85",
   "metadata": {},
   "outputs": [
    {
     "name": "stdout",
     "output_type": "stream",
     "text": [
      "Для групп 246+247 и 248 и события MainScreenAppear получилось следующее:\n",
      "p-значение:  0.29424526837179577\n",
      "Не получилось отвергнуть нулевую гипотезу, нет оснований считать группы разными\n",
      "-----------------------------------------------------------------------------------\n",
      "Для групп 246+247 и 248 и события OffersScreenAppear получилось следующее:\n",
      "p-значение:  0.43425549655188256\n",
      "Не получилось отвергнуть нулевую гипотезу, нет оснований считать группы разными\n",
      "-----------------------------------------------------------------------------------\n",
      "Для групп 246+247 и 248 и события CartScreenAppear получилось следующее:\n",
      "p-значение:  0.18175875284404386\n",
      "Не получилось отвергнуть нулевую гипотезу, нет оснований считать группы разными\n",
      "-----------------------------------------------------------------------------------\n",
      "Для групп 246+247 и 248 и события PaymentScreenSuccessful получилось следующее:\n",
      "p-значение:  0.6004294282308704\n",
      "Не получилось отвергнуть нулевую гипотезу, нет оснований считать группы разными\n",
      "-----------------------------------------------------------------------------------\n"
     ]
    }
   ],
   "source": [
    "gr1 = '246+247'\n",
    "gr2 = 248\n",
    "alpha = 0.01\n",
    "\n",
    "for event in events:\n",
    "    print(f\"Для групп {gr1} и {gr2} и события {event} получилось следующее:\")\n",
    "    funk_calk(alpha, gr1, gr2, event)\n",
    "    print('-----------------------------------------------------------------------------------')"
   ]
  },
  {
   "cell_type": "markdown",
   "id": "2e2639e7",
   "metadata": {},
   "source": [
    "Оснований считать выбор групп не верным нет. Существенных различий в группах не выявлено.<br>\n",
    "Было выполнено 16 проверок статистически гипотез.<br>\n",
    "Считаю выбор alpha=0.01 потимальным для этого проекта."
   ]
  },
  {
   "cell_type": "markdown",
   "id": "8a149e51",
   "metadata": {},
   "source": [
    "# Шаг 6. Выводы\n",
    "В Шаге 3 были изучены полученные данные на предмет правильности к поставленной задаче. Был выявлен актуальный диапазон исследуемых дат.<br>\n",
    "В Шаге 4 была изучена воронка событий. Для дальнейшего исследования была отвергнута часть событий.<br>\n",
    "В Шаге 5 были изучены результаты эксперимента. Проведено сравнение контрольных групп между собой, контрольных групп с экспериментальной и сборной контрольной группы с экспериментальной.<br>\n",
    "Оснований считать выбор групп не верным нет. Существенных различий в группах не выявлено."
   ]
  }
 ],
 "metadata": {
  "kernelspec": {
   "display_name": "Python 3 (ipykernel)",
   "language": "python",
   "name": "python3"
  },
  "language_info": {
   "codemirror_mode": {
    "name": "ipython",
    "version": 3
   },
   "file_extension": ".py",
   "mimetype": "text/x-python",
   "name": "python",
   "nbconvert_exporter": "python",
   "pygments_lexer": "ipython3",
   "version": "3.9.12"
  }
 },
 "nbformat": 4,
 "nbformat_minor": 5
}
